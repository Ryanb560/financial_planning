{
 "metadata": {
  "language_info": {
   "codemirror_mode": {
    "name": "ipython",
    "version": 3
   },
   "file_extension": ".py",
   "mimetype": "text/x-python",
   "name": "python",
   "nbconvert_exporter": "python",
   "pygments_lexer": "ipython3",
   "version": "3.6.9-final"
  },
  "orig_nbformat": 2,
  "kernelspec": {
   "name": "python3",
   "display_name": "Python 3.6.9 64-bit ('base': conda)",
   "metadata": {
    "interpreter": {
     "hash": "a8383eef294e6eb532b9a275f580f77018a4c5ddf6bd4ca154421d62e44b7362"
    }
   }
  }
 },
 "nbformat": 4,
 "nbformat_minor": 2,
 "cells": [
  {
   "cell_type": "code",
   "execution_count": 1,
   "metadata": {},
   "outputs": [],
   "source": [
    "import random\n",
    "import json\n",
    "from monte_print import print_values"
   ]
  },
  {
   "cell_type": "code",
   "execution_count": 8,
   "metadata": {},
   "outputs": [],
   "source": [
    "results_list = []\n",
    "iterations = 5000"
   ]
  },
  {
   "cell_type": "code",
   "execution_count": 9,
   "metadata": {},
   "outputs": [
    {
     "output_type": "stream",
     "name": "stdout",
     "text": [
      "\n    Distribution of Prior Selections p(A)\n    \nPrior\na    1670\nb    1664\nc    1666\nName: Result, dtype: int64\n\n    Distribution of Posterior Selections p(A|B)\n    Note, this is NOT the distribution of WINNING,\n    only the rate at which each value is selected\n    \nPrior  Posterior\na      b            848\n       c            822\nb      a            793\n       c            871\nc      a            825\n       b            841\nName: Result, dtype: int64\n\n    Data on wins\n    \n\n        Wins:3340 \n        Losses: 1660 \n        Winrate: 0.668\n        \n\n    Wins by Prior Selection\n    \n       Trials  Wins   Winrate\nPrior                        \na        1670  1130  0.676647\nb        1664  1098  0.659856\nc        1666  1112  0.667467\n\n    Wins by Posterior Selection\n    \n                 Trials  Wins   Winrate\nPrior Posterior                        \na     b             848   576  0.679245\n      c             822   554  0.673966\nb     a             793   537  0.677175\n      c             871   561  0.644087\nc     a             825   548  0.664242\n      b             841   564  0.670630\n"
     ]
    }
   ],
   "source": [
    "for guess in range(iterations):\n",
    "\n",
    "    # setup \n",
    "    doors = ['a','b','c']\n",
    "    contestant_choice = random.choice(doors)\n",
    "    prize_door = random.choice(doors)\n",
    "    trial = [contestant_choice]\n",
    "\n",
    "    # game\n",
    "    to_remove = contestant_choice\n",
    "    while(to_remove == contestant_choice or to_remove == prize_door):\n",
    "        to_remove = random.choice(doors)\n",
    "\n",
    "    doors.remove(to_remove)\n",
    "\n",
    "    doors.remove(contestant_choice)\n",
    "    contestant_choice = doors[0]\n",
    "\n",
    "    trial.append(contestant_choice)\n",
    "\n",
    "    # calcuations\n",
    "    if contestant_choice == prize_door:\n",
    "        trial.append(1)\n",
    "    else:\n",
    "        trial.append(0)\n",
    "\n",
    "    results_list.append(trial)\n",
    "\n",
    "print_values(results_list)"
   ]
  },
  {
   "cell_type": "code",
   "execution_count": null,
   "metadata": {},
   "outputs": [],
   "source": []
  }
 ]
}