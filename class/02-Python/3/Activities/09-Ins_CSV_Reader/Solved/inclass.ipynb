{
 "metadata": {
  "language_info": {
   "codemirror_mode": {
    "name": "ipython",
    "version": 3
   },
   "file_extension": ".py",
   "mimetype": "text/x-python",
   "name": "python",
   "nbconvert_exporter": "python",
   "pygments_lexer": "ipython3",
   "version": "3.6.9-final"
  },
  "orig_nbformat": 2,
  "kernelspec": {
   "name": "python3",
   "display_name": "Python 3.6.9 64-bit ('base': conda)",
   "metadata": {
    "interpreter": {
     "hash": "a8383eef294e6eb532b9a275f580f77018a4c5ddf6bd4ca154421d62e44b7362"
    }
   }
  }
 },
 "nbformat": 4,
 "nbformat_minor": 2,
 "cells": [
  {
   "cell_type": "code",
   "execution_count": 1,
   "metadata": {},
   "outputs": [],
   "source": [
    "import csv\n",
    "from pathlib import Path"
   ]
  },
  {
   "cell_type": "code",
   "execution_count": 2,
   "metadata": {},
   "outputs": [],
   "source": [
    "filepath = Path(\"../Resources/accounting.csv\")"
   ]
  },
  {
   "cell_type": "code",
   "execution_count": 9,
   "metadata": {},
   "outputs": [
    {
     "output_type": "stream",
     "name": "stdout",
     "text": [
      "890000\n"
     ]
    }
   ],
   "source": [
    "with open(filepath, \"r\") as csvfile:\n",
    "    csvreader = csv.reader(csvfile, delimiter=\",\")\n",
    "\n",
    "    next(csvreader)\n",
    "    sum_salaries = 0\n",
    "\n",
    "    for row in csvreader:\n",
    "        # print(row)\n",
    "        sum_salaries += int(row[3])\n",
    "    \n",
    "    print(sum_salaries)"
   ]
  },
  {
   "cell_type": "code",
   "execution_count": 11,
   "metadata": {},
   "outputs": [],
   "source": [
    "with open(filepath, \"r\") as csvfile:\n",
    "    csvreader = csv.reader(csvfile, delimiter=\",\")\n",
    "\n",
    "    header = next(csvreader)\n",
    "\n",
    "    max_salary = 0\n",
    "    min_salary = 0\n",
    "    avg_salary = 0\n",
    "    total_salary = 0\n",
    "    count_salary = 0\n",
    "\n",
    "# Calculate the max, mean, and average of the list of salaries\n",
    "    for salary in csvreader:\n",
    "        salary = int(salary[3])\n",
    "        # Sum the total and count variables\n",
    "        total_salary += salary\n",
    "        count_salary += 1\n",
    "\n",
    "        # Logic to determine min and max salaries\n",
    "        if min_salary == 0:\n",
    "            min_salary = salary\n",
    "        elif salary > max_salary:\n",
    "            max_salary = salary\n",
    "        elif salary < min_salary:\n",
    "            min_salary = salary\n",
    "\n",
    "# Calculate the average salary, round to the nearest 2 decimal places\n",
    "    avg_salary = round(total_salary / count_salary, 2)\n",
    "\n",
    "\n",
    "    with open(\"./output.csv\",\"w\") as csvoutput:\n",
    "\n",
    "        csvwriter = csv.writer(csvoutput,delimiter=\",\")\n",
    "\n",
    "        new_header = [\"count\",\"total\", \"average\", \"min\", \"max\"]\n",
    "        new_values = [count_salary, total_salary, avg_salary, min_salary, max_salary]\n",
    "\n",
    "\n",
    "        csvwriter.writerow(new_header)\n",
    "        csvwriter.writerow(new_values)\n"
   ]
  },
  {
   "cell_type": "code",
   "execution_count": null,
   "metadata": {},
   "outputs": [],
   "source": []
  }
 ]
}