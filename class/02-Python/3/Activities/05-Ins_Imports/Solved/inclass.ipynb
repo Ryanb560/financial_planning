{
 "metadata": {
  "language_info": {
   "codemirror_mode": {
    "name": "ipython",
    "version": 3
   },
   "file_extension": ".py",
   "mimetype": "text/x-python",
   "name": "python",
   "nbconvert_exporter": "python",
   "pygments_lexer": "ipython3",
   "version": "3.6.9-final"
  },
  "orig_nbformat": 2,
  "kernelspec": {
   "name": "python3",
   "display_name": "Python 3.6.9 64-bit ('base': conda)",
   "metadata": {
    "interpreter": {
     "hash": "a8383eef294e6eb532b9a275f580f77018a4c5ddf6bd4ca154421d62e44b7362"
    }
   }
  }
 },
 "nbformat": 4,
 "nbformat_minor": 2,
 "cells": [
  {
   "cell_type": "code",
   "execution_count": 1,
   "metadata": {},
   "outputs": [],
   "source": [
    "import numpy_financial as npf"
   ]
  },
  {
   "cell_type": "code",
   "execution_count": 2,
   "metadata": {},
   "outputs": [
    {
     "output_type": "execute_result",
     "data": {
      "text/plain": [
       "<module 'numpy_financial' from '/home/camkirk/anaconda3/envs/zip/lib/python3.6/site-packages/numpy_financial/__init__.py'>"
      ]
     },
     "metadata": {},
     "execution_count": 2
    }
   ],
   "source": [
    "npf"
   ]
  },
  {
   "cell_type": "code",
   "execution_count": 3,
   "metadata": {},
   "outputs": [],
   "source": [
    "disc_rate = 0.1\n",
    "initial_invest = 1000\n",
    "cash_flows = 400"
   ]
  },
  {
   "cell_type": "code",
   "execution_count": null,
   "metadata": {},
   "outputs": [],
   "source": [
    "[-1000,400,400,400,400]"
   ]
  },
  {
   "cell_type": "code",
   "execution_count": 4,
   "metadata": {},
   "outputs": [
    {
     "output_type": "execute_result",
     "data": {
      "text/plain": [
       "267.94617853971704"
      ]
     },
     "metadata": {},
     "execution_count": 4
    }
   ],
   "source": [
    "npf.npv(disc_rate, [-initial_invest, cash_flows, cash_flows, cash_flows, cash_flows])"
   ]
  },
  {
   "cell_type": "code",
   "execution_count": null,
   "metadata": {},
   "outputs": [],
   "source": []
  }
 ]
}