{
 "metadata": {
  "language_info": {
   "codemirror_mode": {
    "name": "ipython",
    "version": 3
   },
   "file_extension": ".py",
   "mimetype": "text/x-python",
   "name": "python",
   "nbconvert_exporter": "python",
   "pygments_lexer": "ipython3",
   "version": "3.6.9-final"
  },
  "orig_nbformat": 2,
  "kernelspec": {
   "name": "python3",
   "display_name": "Python 3.6.9 64-bit ('base': conda)",
   "metadata": {
    "interpreter": {
     "hash": "a8383eef294e6eb532b9a275f580f77018a4c5ddf6bd4ca154421d62e44b7362"
    }
   }
  }
 },
 "nbformat": 4,
 "nbformat_minor": 2,
 "cells": [
  {
   "cell_type": "code",
   "execution_count": 2,
   "metadata": {},
   "outputs": [
    {
     "output_type": "stream",
     "name": "stdout",
     "text": [
      "List of Best Actors:\nBenedict Cumberbatch\nBetty White\nGary Busey\n"
     ]
    }
   ],
   "source": [
    "from pathlib import Path\n",
    "\n",
    "filepath = Path(\"../Resources/input.txt\")\n",
    "\n",
    "with open(filepath, 'r') as file:\n",
    "    print(file.read())"
   ]
  },
  {
   "cell_type": "code",
   "execution_count": 7,
   "metadata": {},
   "outputs": [
    {
     "output_type": "stream",
     "name": "stdout",
     "text": [
      "0: List of Best Actors:\n\n1: Benedict Cumberbatch\n\n2: Betty White\n\n3: Gary Busey\n"
     ]
    }
   ],
   "source": [
    "with open(filepath, \"r\") as file:\n",
    "    line_num = 0\n",
    "\n",
    "    # hey this loop prints one line at a time\n",
    "    for line in file:\n",
    "        print(f\"{line_num}: {line}\")\n",
    "        # print(line.split(\" \")[1])\n",
    "        line_num += 1"
   ]
  },
  {
   "cell_type": "code",
   "execution_count": null,
   "metadata": {},
   "outputs": [],
   "source": []
  }
 ]
}