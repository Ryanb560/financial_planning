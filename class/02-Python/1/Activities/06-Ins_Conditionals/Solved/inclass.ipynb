{
 "cells": [
  {
   "cell_type": "code",
   "execution_count": 12,
   "metadata": {},
   "outputs": [],
   "source": [
    "driverless_car = \"neo\""
   ]
  },
  {
   "cell_type": "code",
   "execution_count": 13,
   "metadata": {},
   "outputs": [
    {
     "name": "stdout",
     "output_type": "stream",
     "text": [
      "you should trade that for a tesla\n",
      "always prints\n"
     ]
    }
   ],
   "source": [
    "\n",
    "if driverless_car == True:\n",
    "    print(\"Okay, i see your cool tesla\")\n",
    "    \n",
    "elif driverless_car == \"neo\":\n",
    "    print(\"you should trade that for a tesla\")\n",
    "\n",
    "else:\n",
    "    print(\"hey, get a tesla\")\n",
    "    \n",
    "print(\"always prints\")"
   ]
  },
  {
   "cell_type": "code",
   "execution_count": 16,
   "metadata": {},
   "outputs": [],
   "source": [
    "x = 5\n",
    "y = 0"
   ]
  },
  {
   "cell_type": "code",
   "execution_count": 15,
   "metadata": {},
   "outputs": [
    {
     "name": "stdout",
     "output_type": "stream",
     "text": [
      "we're working with small x and large y\n"
     ]
    }
   ],
   "source": [
    "if x < 10 and y > 1:\n",
    "    print(\"we're working with small x and large y\")"
   ]
  },
  {
   "cell_type": "code",
   "execution_count": null,
   "metadata": {},
   "outputs": [],
   "source": [
    "# Nested if statements with insurance premium predictor\n",
    "accident = True\n",
    "at_fault = False\n",
    "accident_forgiveness = True\n",
    "elite_status = True\n",
    "\n",
    "increase_insurance_premium = True\n",
    "\n",
    "print(\"Insurance premium will increase. True or False?\")\n",
    "\n",
    "# Nested Conditional Statements\n",
    "if accident:\n",
    "    if at_fault and accident_forgiveness:\n",
    "        increase_insurance_premium = False\n",
    "    elif at_fault and not accident_forgiveness and not elite_status:\n",
    "        increase_insurance_premium = True\n",
    "    else:\n",
    "        increase_insurance_premium = False\n",
    "elif not accident and elite_status:\n",
    "    increase_insurance_premium = False\n",
    "else:\n",
    "    increase_insurance_premium = True\n",
    "\n",
    "print(f\"Prediction: {increase_insurance_premium}\")"
   ]
  }
 ],
 "metadata": {
  "kernelspec": {
   "display_name": "Python 3",
   "language": "python",
   "name": "python3"
  },
  "language_info": {
   "codemirror_mode": {
    "name": "ipython",
    "version": 3
   },
   "file_extension": ".py",
   "mimetype": "text/x-python",
   "name": "python",
   "nbconvert_exporter": "python",
   "pygments_lexer": "ipython3",
   "version": "3.7.9"
  }
 },
 "nbformat": 4,
 "nbformat_minor": 4
}
