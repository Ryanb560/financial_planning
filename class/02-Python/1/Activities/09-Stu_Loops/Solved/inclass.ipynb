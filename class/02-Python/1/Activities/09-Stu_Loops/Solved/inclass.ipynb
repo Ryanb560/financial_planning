{
 "cells": [
  {
   "cell_type": "code",
   "execution_count": 1,
   "metadata": {},
   "outputs": [
    {
     "name": "stdout",
     "output_type": "stream",
     "text": [
      "i\n",
      " \n",
      "d\n",
      "o\n",
      "n\n",
      "'\n",
      "t\n",
      " \n",
      "k\n",
      "n\n",
      "o\n",
      "w\n",
      "hooray!\n"
     ]
    }
   ],
   "source": [
    "cheer = \"i don't know\"\n",
    "\n",
    "for letter in cheer:\n",
    "\n",
    "    print(letter)\n",
    "\n",
    "print(\"hooray!\")"
   ]
  },
  {
   "cell_type": "code",
   "execution_count": null,
   "metadata": {},
   "outputs": [],
   "source": []
  }
 ],
 "metadata": {
  "kernelspec": {
   "display_name": "Python 3",
   "language": "python",
   "name": "python3"
  },
  "language_info": {
   "codemirror_mode": {
    "name": "ipython",
    "version": 3
   },
   "file_extension": ".py",
   "mimetype": "text/x-python",
   "name": "python",
   "nbconvert_exporter": "python",
   "pygments_lexer": "ipython3",
   "version": "3.6.9"
  }
 },
 "nbformat": 4,
 "nbformat_minor": 4
}
