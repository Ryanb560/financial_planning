{
 "cells": [
  {
   "cell_type": "code",
   "execution_count": 1,
   "metadata": {},
   "outputs": [],
   "source": [
    "demographics = {\n",
    "    \"address\":\"501 jump street\",\n",
    "    \"phone\":\"711-859-8732\",\n",
    "    \"fname\":\"Cam\",\n",
    "    \"lname\":\"Kirk\",\n",
    "    \"age\":29\n",
    "}"
   ]
  },
  {
   "cell_type": "code",
   "execution_count": 6,
   "metadata": {},
   "outputs": [
    {
     "data": {
      "text/plain": [
       "29"
      ]
     },
     "execution_count": 6,
     "metadata": {},
     "output_type": "execute_result"
    }
   ],
   "source": [
    "demographics[\"age\"]"
   ]
  },
  {
   "cell_type": "code",
   "execution_count": 9,
   "metadata": {},
   "outputs": [],
   "source": [
    "number_day_of_week = {\n",
    "    \"mon\":1,\n",
    "    \"tue\":2,\n",
    "    \"wed\":3,\n",
    "    \"thur\":4\n",
    "}"
   ]
  },
  {
   "cell_type": "code",
   "execution_count": 10,
   "metadata": {},
   "outputs": [],
   "source": [
    "trading_pnl = {\n",
    "    \"title\": \"Trading Log\",\n",
    "    \"03-18-2019\": -224,\n",
    "    \"03-19-2019\": 352,\n",
    "    \"03-20-2019\": 252,\n",
    "    \"03-21-2019\": 354,\n",
    "    \"03-22-2019\": -544,\n",
    "    \"03-23-2019\": -650,\n",
    "    \"03-24-2019\": 56,\n",
    "    \"03-25-2019\": 123,\n",
    "    \"03-26-2019\": -43,\n",
    "    \"03-27-2019\": 254,\n",
    "    \"03-28-2019\": 325,\n",
    "    \"03-29-2019\": -123,\n",
    "    \"03-30-2019\": 47,\n",
    "    \"03-31-2019\": 321,\n",
    "    \"04-01-2019\": 123,\n",
    "    \"04-02-2019\": 133,\n",
    "    \"04-03-2019\": -151,\n",
    "    \"04-04-2019\": 613,\n",
    "    \"04-05-2019\": 232,\n",
    "    \"04-06-2019\": -311\n",
    "}"
   ]
  },
  {
   "cell_type": "code",
   "execution_count": 11,
   "metadata": {},
   "outputs": [
    {
     "data": {
      "text/plain": [
       "232"
      ]
     },
     "execution_count": 11,
     "metadata": {},
     "output_type": "execute_result"
    }
   ],
   "source": [
    "trading_pnl[\"04-05-2019\"]"
   ]
  },
  {
   "cell_type": "code",
   "execution_count": 13,
   "metadata": {},
   "outputs": [
    {
     "name": "stdout",
     "output_type": "stream",
     "text": [
      "title\n",
      "03-18-2019\n",
      "03-19-2019\n",
      "03-20-2019\n",
      "03-21-2019\n",
      "03-22-2019\n",
      "03-23-2019\n",
      "03-24-2019\n",
      "03-25-2019\n",
      "03-26-2019\n",
      "03-27-2019\n",
      "03-28-2019\n",
      "03-29-2019\n",
      "03-30-2019\n",
      "03-31-2019\n",
      "04-01-2019\n",
      "04-02-2019\n",
      "04-03-2019\n",
      "04-04-2019\n",
      "04-05-2019\n",
      "04-06-2019\n"
     ]
    }
   ],
   "source": [
    "for key in trading_pnl:\n",
    "    print(key)"
   ]
  },
  {
   "cell_type": "code",
   "execution_count": 14,
   "metadata": {},
   "outputs": [
    {
     "name": "stdout",
     "output_type": "stream",
     "text": [
      "Trading Log\n",
      "-224\n",
      "352\n",
      "252\n",
      "354\n",
      "-544\n",
      "-650\n",
      "56\n",
      "123\n",
      "-43\n",
      "254\n",
      "325\n",
      "-123\n",
      "47\n",
      "321\n",
      "123\n",
      "133\n",
      "-151\n",
      "613\n",
      "232\n",
      "-311\n"
     ]
    }
   ],
   "source": [
    "for key in trading_pnl:\n",
    "    print(trading_pnl[key])"
   ]
  },
  {
   "cell_type": "code",
   "execution_count": 15,
   "metadata": {},
   "outputs": [
    {
     "name": "stdout",
     "output_type": "stream",
     "text": [
      "title has a value in the pnl of Trading Log\n",
      "03-18-2019 has a value in the pnl of -224\n",
      "03-19-2019 has a value in the pnl of 352\n",
      "03-20-2019 has a value in the pnl of 252\n",
      "03-21-2019 has a value in the pnl of 354\n",
      "03-22-2019 has a value in the pnl of -544\n",
      "03-23-2019 has a value in the pnl of -650\n",
      "03-24-2019 has a value in the pnl of 56\n",
      "03-25-2019 has a value in the pnl of 123\n",
      "03-26-2019 has a value in the pnl of -43\n",
      "03-27-2019 has a value in the pnl of 254\n",
      "03-28-2019 has a value in the pnl of 325\n",
      "03-29-2019 has a value in the pnl of -123\n",
      "03-30-2019 has a value in the pnl of 47\n",
      "03-31-2019 has a value in the pnl of 321\n",
      "04-01-2019 has a value in the pnl of 123\n",
      "04-02-2019 has a value in the pnl of 133\n",
      "04-03-2019 has a value in the pnl of -151\n",
      "04-04-2019 has a value in the pnl of 613\n",
      "04-05-2019 has a value in the pnl of 232\n",
      "04-06-2019 has a value in the pnl of -311\n"
     ]
    }
   ],
   "source": [
    "for key, value in trading_pnl.items():\n",
    "    print(f\"{key} has a value in the pnl of {value}\")"
   ]
  },
  {
   "cell_type": "code",
   "execution_count": null,
   "metadata": {},
   "outputs": [],
   "source": []
  }
 ],
 "metadata": {
  "kernelspec": {
   "display_name": "Python 3",
   "language": "python",
   "name": "python3"
  },
  "language_info": {
   "codemirror_mode": {
    "name": "ipython",
    "version": 3
   },
   "file_extension": ".py",
   "mimetype": "text/x-python",
   "name": "python",
   "nbconvert_exporter": "python",
   "pygments_lexer": "ipython3",
   "version": "3.6.9"
  }
 },
 "nbformat": 4,
 "nbformat_minor": 4
}
