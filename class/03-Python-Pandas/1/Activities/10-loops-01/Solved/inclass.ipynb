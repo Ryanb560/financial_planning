{
 "cells": [
  {
   "source": [
    "# For Loops\n",
    "---\n",
    "\n",
    "What are they used for?\n",
    "\n",
    "iterating over a set of data, **repeat** a process or set of processes a defined number of times.\n"
   ],
   "cell_type": "markdown",
   "metadata": {}
  },
  {
   "source": [
    "Example syntax\n",
    "\n",
    "```python\n",
    "for i in range(10):\n",
    "    print(i)\n",
    "\n",
    "\n",
    "```"
   ],
   "cell_type": "markdown",
   "metadata": {}
  },
  {
   "cell_type": "code",
   "execution_count": 2,
   "metadata": {},
   "outputs": [],
   "source": [
    "fruits  = [\"banana\", \"grapefruit\", \"lychee\", \"guanabana\", \"jackfruit\"]"
   ]
  },
  {
   "cell_type": "code",
   "execution_count": 7,
   "metadata": {},
   "outputs": [
    {
     "output_type": "stream",
     "name": "stdout",
     "text": [
      "banana\ngrapefruit\nlychee\nguanabana\njackfruit\n"
     ]
    }
   ],
   "source": [
    "for fruit in fruits:\n",
    "    print(fruit)"
   ]
  },
  {
   "cell_type": "code",
   "execution_count": 8,
   "metadata": {},
   "outputs": [],
   "source": [
    "ledger = [\n",
    "    [\"cam\", \"paul\", 200],\n",
    "    [\"loary\",\"paul\", 100],\n",
    "    [\"cam\",\"loary\", 200]\n",
    "]"
   ]
  },
  {
   "cell_type": "code",
   "execution_count": 11,
   "metadata": {},
   "outputs": [
    {
     "output_type": "stream",
     "name": "stdout",
     "text": [
      "cam\npaul\n200\nloary\npaul\n100\ncam\nloary\n200\n"
     ]
    }
   ],
   "source": [
    "for record in ledger:\n",
    "    for datum in record:\n",
    "        print(datum)"
   ]
  },
  {
   "cell_type": "code",
   "execution_count": 13,
   "metadata": {},
   "outputs": [],
   "source": [
    "art_collection = [\n",
    "    {\n",
    "        \"name\": \"Creation of Adam\",\n",
    "        \"pubKey\": \"0x5787942616579845612\",\n",
    "        \"artist\": \"Michelangelo\",\n",
    "        \"value\": 50000\n",
    "    },\n",
    "    {\n",
    "        \"name\": \"Untitled\",\n",
    "        \"pubKey\": \"0x5646548789798746451\",\n",
    "        \"artist\": \"Unknown\",\n",
    "        \"value\": 79842\n",
    "    },\n",
    "    {\n",
    "        \"name\": \"Christina's World\",\n",
    "        \"pubKey\": \"0x54879878456313216579\",\n",
    "        \"artist\":\"Andrew Wild\",\n",
    "        \"value\": 89789\n",
    "    },\n",
    "    {\n",
    "        \"name\": \"Skyscape\",\n",
    "        \"pubKey\": \"0x68798794513621649877\",\n",
    "        \"artist\":\"James Turrell\",\n",
    "        \"value\": 97465\n",
    "    },\n",
    "    \n",
    "]"
   ]
  },
  {
   "cell_type": "code",
   "execution_count": 17,
   "metadata": {},
   "outputs": [
    {
     "output_type": "stream",
     "name": "stdout",
     "text": [
      "0x5787942616579845612\n0x5646548789798746451\n0x54879878456313216579\n0x68798794513621649877\n"
     ]
    }
   ],
   "source": [
    "for record in art_collection:\n",
    "    print(record[\"pubKey\"])"
   ]
  },
  {
   "cell_type": "code",
   "execution_count": null,
   "metadata": {},
   "outputs": [],
   "source": []
  }
 ],
 "metadata": {
  "kernelspec": {
   "display_name": "Python 3",
   "language": "python",
   "name": "python3"
  },
  "language_info": {
   "codemirror_mode": {
    "name": "ipython",
    "version": 3
   },
   "file_extension": ".py",
   "mimetype": "text/x-python",
   "name": "python",
   "nbconvert_exporter": "python",
   "pygments_lexer": "ipython3",
   "version": "3.6.9-final"
  }
 },
 "nbformat": 4,
 "nbformat_minor": 4
}