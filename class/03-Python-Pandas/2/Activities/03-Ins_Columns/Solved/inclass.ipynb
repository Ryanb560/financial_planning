{
 "metadata": {
  "language_info": {
   "codemirror_mode": {
    "name": "ipython",
    "version": 3
   },
   "file_extension": ".py",
   "mimetype": "text/x-python",
   "name": "python",
   "nbconvert_exporter": "python",
   "pygments_lexer": "ipython3",
   "version": "3.6.9-final"
  },
  "orig_nbformat": 2,
  "kernelspec": {
   "name": "python3",
   "display_name": "Python 3.6.9 64-bit ('base': conda)",
   "metadata": {
    "interpreter": {
     "hash": "a8383eef294e6eb532b9a275f580f77018a4c5ddf6bd4ca154421d62e44b7362"
    }
   }
  }
 },
 "nbformat": 4,
 "nbformat_minor": 2,
 "cells": [
  {
   "cell_type": "code",
   "execution_count": 1,
   "metadata": {},
   "outputs": [
    {
     "output_type": "execute_result",
     "data": {
      "text/plain": [
       "          FullName                     Email  ...           CreditCard  Balance\n",
       "0  Altha Frederick  unhideable1966@gmail.com  ...  2524 2317 2139 4751    21511\n",
       "1  Nickolas Harvey   allgood1803@outlook.com  ...  4756 0997 9568 1329    13850\n",
       "2  Jesusita Kinney    satsumas1954@yahoo.com  ...    3717 863466 48574    21254\n",
       "3      Mose Gordon    antifowl1875@gmail.com  ...  5413 1700 6989 2835     5221\n",
       "4  Cesar Valentine  acetaminol1979@yahoo.com  ...  5173 4883 9215 4743     8300\n",
       "\n",
       "[5 rows x 6 columns]"
      ],
      "text/html": "<div>\n<style scoped>\n    .dataframe tbody tr th:only-of-type {\n        vertical-align: middle;\n    }\n\n    .dataframe tbody tr th {\n        vertical-align: top;\n    }\n\n    .dataframe thead th {\n        text-align: right;\n    }\n</style>\n<table border=\"1\" class=\"dataframe\">\n  <thead>\n    <tr style=\"text-align: right;\">\n      <th></th>\n      <th>FullName</th>\n      <th>Email</th>\n      <th>Address</th>\n      <th>Zip</th>\n      <th>CreditCard</th>\n      <th>Balance</th>\n    </tr>\n  </thead>\n  <tbody>\n    <tr>\n      <th>0</th>\n      <td>Altha Frederick</td>\n      <td>unhideable1966@gmail.com</td>\n      <td>67 John Maher Extension</td>\n      <td>31353</td>\n      <td>2524 2317 2139 4751</td>\n      <td>21511</td>\n    </tr>\n    <tr>\n      <th>1</th>\n      <td>Nickolas Harvey</td>\n      <td>allgood1803@outlook.com</td>\n      <td>1200 Madera Plaza</td>\n      <td>1922</td>\n      <td>4756 0997 9568 1329</td>\n      <td>13850</td>\n    </tr>\n    <tr>\n      <th>2</th>\n      <td>Jesusita Kinney</td>\n      <td>satsumas1954@yahoo.com</td>\n      <td>943 Gibb Highway</td>\n      <td>41535</td>\n      <td>3717 863466 48574</td>\n      <td>21254</td>\n    </tr>\n    <tr>\n      <th>3</th>\n      <td>Mose Gordon</td>\n      <td>antifowl1875@gmail.com</td>\n      <td>1073 Fell Trace</td>\n      <td>16098</td>\n      <td>5413 1700 6989 2835</td>\n      <td>5221</td>\n    </tr>\n    <tr>\n      <th>4</th>\n      <td>Cesar Valentine</td>\n      <td>acetaminol1979@yahoo.com</td>\n      <td>805 Marshall Promenade</td>\n      <td>99895</td>\n      <td>5173 4883 9215 4743</td>\n      <td>8300</td>\n    </tr>\n  </tbody>\n</table>\n</div>"
     },
     "metadata": {},
     "execution_count": 1
    }
   ],
   "source": [
    "import pandas as pd\n",
    "customer_df = pd.read_csv(\"../Resources/customers.csv\")\n",
    "customer_df.head()"
   ]
  },
  {
   "cell_type": "code",
   "execution_count": 2,
   "metadata": {},
   "outputs": [
    {
     "output_type": "execute_result",
     "data": {
      "text/plain": [
       "Index(['FullName', 'Email', 'Address', 'Zip', 'CreditCard', 'Balance'], dtype='object')"
      ]
     },
     "metadata": {},
     "execution_count": 2
    }
   ],
   "source": [
    "customer_df.columns"
   ]
  },
  {
   "cell_type": "code",
   "execution_count": 4,
   "metadata": {},
   "outputs": [
    {
     "output_type": "execute_result",
     "data": {
      "text/plain": [
       "         full_name                     Email  ...          credit_card  Balance\n",
       "0  Altha Frederick  unhideable1966@gmail.com  ...  2524 2317 2139 4751    21511\n",
       "1  Nickolas Harvey   allgood1803@outlook.com  ...  4756 0997 9568 1329    13850\n",
       "2  Jesusita Kinney    satsumas1954@yahoo.com  ...    3717 863466 48574    21254\n",
       "3      Mose Gordon    antifowl1875@gmail.com  ...  5413 1700 6989 2835     5221\n",
       "4  Cesar Valentine  acetaminol1979@yahoo.com  ...  5173 4883 9215 4743     8300\n",
       "\n",
       "[5 rows x 6 columns]"
      ],
      "text/html": "<div>\n<style scoped>\n    .dataframe tbody tr th:only-of-type {\n        vertical-align: middle;\n    }\n\n    .dataframe tbody tr th {\n        vertical-align: top;\n    }\n\n    .dataframe thead th {\n        text-align: right;\n    }\n</style>\n<table border=\"1\" class=\"dataframe\">\n  <thead>\n    <tr style=\"text-align: right;\">\n      <th></th>\n      <th>full_name</th>\n      <th>Email</th>\n      <th>Address</th>\n      <th>Zip</th>\n      <th>credit_card</th>\n      <th>Balance</th>\n    </tr>\n  </thead>\n  <tbody>\n    <tr>\n      <th>0</th>\n      <td>Altha Frederick</td>\n      <td>unhideable1966@gmail.com</td>\n      <td>67 John Maher Extension</td>\n      <td>31353</td>\n      <td>2524 2317 2139 4751</td>\n      <td>21511</td>\n    </tr>\n    <tr>\n      <th>1</th>\n      <td>Nickolas Harvey</td>\n      <td>allgood1803@outlook.com</td>\n      <td>1200 Madera Plaza</td>\n      <td>1922</td>\n      <td>4756 0997 9568 1329</td>\n      <td>13850</td>\n    </tr>\n    <tr>\n      <th>2</th>\n      <td>Jesusita Kinney</td>\n      <td>satsumas1954@yahoo.com</td>\n      <td>943 Gibb Highway</td>\n      <td>41535</td>\n      <td>3717 863466 48574</td>\n      <td>21254</td>\n    </tr>\n    <tr>\n      <th>3</th>\n      <td>Mose Gordon</td>\n      <td>antifowl1875@gmail.com</td>\n      <td>1073 Fell Trace</td>\n      <td>16098</td>\n      <td>5413 1700 6989 2835</td>\n      <td>5221</td>\n    </tr>\n    <tr>\n      <th>4</th>\n      <td>Cesar Valentine</td>\n      <td>acetaminol1979@yahoo.com</td>\n      <td>805 Marshall Promenade</td>\n      <td>99895</td>\n      <td>5173 4883 9215 4743</td>\n      <td>8300</td>\n    </tr>\n  </tbody>\n</table>\n</div>"
     },
     "metadata": {},
     "execution_count": 4
    }
   ],
   "source": [
    "customer_df = customer_df.rename(columns={\n",
    "    \"CreditCard\":\"credit_card\",\n",
    "    \"FullName\":\"full_name\"\n",
    "})\n",
    "\n",
    "customer_df.head()"
   ]
  },
  {
   "cell_type": "code",
   "execution_count": 5,
   "metadata": {},
   "outputs": [
    {
     "output_type": "execute_result",
     "data": {
      "text/plain": [
       "0     unhideable1966@gmail.com\n",
       "1      allgood1803@outlook.com\n",
       "2       satsumas1954@yahoo.com\n",
       "3       antifowl1875@gmail.com\n",
       "4     acetaminol1979@yahoo.com\n",
       "                ...           \n",
       "95       plantula1818@live.com\n",
       "96    doolittle1818@yandex.com\n",
       "97          mosso1961@live.com\n",
       "98      ovenful1914@yandex.com\n",
       "99        esson1909@yandex.com\n",
       "Name: Email, Length: 100, dtype: object"
      ]
     },
     "metadata": {},
     "execution_count": 5
    }
   ],
   "source": [
    "customer_df[\"Email\"]"
   ]
  },
  {
   "cell_type": "code",
   "execution_count": 7,
   "metadata": {},
   "outputs": [
    {
     "output_type": "execute_result",
     "data": {
      "text/plain": [
       "                       Email          full_name    Zip\n",
       "0   unhideable1966@gmail.com    Altha Frederick  31353\n",
       "1    allgood1803@outlook.com    Nickolas Harvey   1922\n",
       "2     satsumas1954@yahoo.com    Jesusita Kinney  41535\n",
       "3     antifowl1875@gmail.com        Mose Gordon  16098\n",
       "4   acetaminol1979@yahoo.com    Cesar Valentine  99895\n",
       "..                       ...                ...    ...\n",
       "95     plantula1818@live.com     Crystle Larson  74413\n",
       "96  doolittle1818@yandex.com    Jetta Davenport  73152\n",
       "97        mosso1961@live.com    Dallas Johnston  88215\n",
       "98    ovenful1914@yandex.com  Roberto Daugherty  33903\n",
       "99      esson1909@yandex.com       Abel Walters  39186\n",
       "\n",
       "[100 rows x 3 columns]"
      ],
      "text/html": "<div>\n<style scoped>\n    .dataframe tbody tr th:only-of-type {\n        vertical-align: middle;\n    }\n\n    .dataframe tbody tr th {\n        vertical-align: top;\n    }\n\n    .dataframe thead th {\n        text-align: right;\n    }\n</style>\n<table border=\"1\" class=\"dataframe\">\n  <thead>\n    <tr style=\"text-align: right;\">\n      <th></th>\n      <th>Email</th>\n      <th>full_name</th>\n      <th>Zip</th>\n    </tr>\n  </thead>\n  <tbody>\n    <tr>\n      <th>0</th>\n      <td>unhideable1966@gmail.com</td>\n      <td>Altha Frederick</td>\n      <td>31353</td>\n    </tr>\n    <tr>\n      <th>1</th>\n      <td>allgood1803@outlook.com</td>\n      <td>Nickolas Harvey</td>\n      <td>1922</td>\n    </tr>\n    <tr>\n      <th>2</th>\n      <td>satsumas1954@yahoo.com</td>\n      <td>Jesusita Kinney</td>\n      <td>41535</td>\n    </tr>\n    <tr>\n      <th>3</th>\n      <td>antifowl1875@gmail.com</td>\n      <td>Mose Gordon</td>\n      <td>16098</td>\n    </tr>\n    <tr>\n      <th>4</th>\n      <td>acetaminol1979@yahoo.com</td>\n      <td>Cesar Valentine</td>\n      <td>99895</td>\n    </tr>\n    <tr>\n      <th>...</th>\n      <td>...</td>\n      <td>...</td>\n      <td>...</td>\n    </tr>\n    <tr>\n      <th>95</th>\n      <td>plantula1818@live.com</td>\n      <td>Crystle Larson</td>\n      <td>74413</td>\n    </tr>\n    <tr>\n      <th>96</th>\n      <td>doolittle1818@yandex.com</td>\n      <td>Jetta Davenport</td>\n      <td>73152</td>\n    </tr>\n    <tr>\n      <th>97</th>\n      <td>mosso1961@live.com</td>\n      <td>Dallas Johnston</td>\n      <td>88215</td>\n    </tr>\n    <tr>\n      <th>98</th>\n      <td>ovenful1914@yandex.com</td>\n      <td>Roberto Daugherty</td>\n      <td>33903</td>\n    </tr>\n    <tr>\n      <th>99</th>\n      <td>esson1909@yandex.com</td>\n      <td>Abel Walters</td>\n      <td>39186</td>\n    </tr>\n  </tbody>\n</table>\n<p>100 rows × 3 columns</p>\n</div>"
     },
     "metadata": {},
     "execution_count": 7
    }
   ],
   "source": [
    "customer_df[[\"Email\",\"full_name\", \"Zip\"]]"
   ]
  },
  {
   "cell_type": "code",
   "execution_count": 9,
   "metadata": {},
   "outputs": [
    {
     "output_type": "execute_result",
     "data": {
      "text/plain": [
       "0     21.511\n",
       "1     13.850\n",
       "2     21.254\n",
       "3      5.221\n",
       "4      8.300\n",
       "       ...  \n",
       "95     5.091\n",
       "96    16.509\n",
       "97    24.196\n",
       "98    18.828\n",
       "99     3.400\n",
       "Name: Balance, Length: 100, dtype: float64"
      ]
     },
     "metadata": {},
     "execution_count": 9
    }
   ],
   "source": [
    "customer_df[\"Balance\"] / 1000"
   ]
  },
  {
   "cell_type": "code",
   "execution_count": 11,
   "metadata": {},
   "outputs": [
    {
     "output_type": "execute_result",
     "data": {
      "text/plain": [
       "         full_name                     Email  ... Balance  Balance_1K\n",
       "0  Altha Frederick  unhideable1966@gmail.com  ...   21511      21.511\n",
       "1  Nickolas Harvey   allgood1803@outlook.com  ...   13850      13.850\n",
       "2  Jesusita Kinney    satsumas1954@yahoo.com  ...   21254      21.254\n",
       "3      Mose Gordon    antifowl1875@gmail.com  ...    5221       5.221\n",
       "4  Cesar Valentine  acetaminol1979@yahoo.com  ...    8300       8.300\n",
       "\n",
       "[5 rows x 7 columns]"
      ],
      "text/html": "<div>\n<style scoped>\n    .dataframe tbody tr th:only-of-type {\n        vertical-align: middle;\n    }\n\n    .dataframe tbody tr th {\n        vertical-align: top;\n    }\n\n    .dataframe thead th {\n        text-align: right;\n    }\n</style>\n<table border=\"1\" class=\"dataframe\">\n  <thead>\n    <tr style=\"text-align: right;\">\n      <th></th>\n      <th>full_name</th>\n      <th>Email</th>\n      <th>Address</th>\n      <th>Zip</th>\n      <th>credit_card</th>\n      <th>Balance</th>\n      <th>Balance_1K</th>\n    </tr>\n  </thead>\n  <tbody>\n    <tr>\n      <th>0</th>\n      <td>Altha Frederick</td>\n      <td>unhideable1966@gmail.com</td>\n      <td>67 John Maher Extension</td>\n      <td>31353</td>\n      <td>2524 2317 2139 4751</td>\n      <td>21511</td>\n      <td>21.511</td>\n    </tr>\n    <tr>\n      <th>1</th>\n      <td>Nickolas Harvey</td>\n      <td>allgood1803@outlook.com</td>\n      <td>1200 Madera Plaza</td>\n      <td>1922</td>\n      <td>4756 0997 9568 1329</td>\n      <td>13850</td>\n      <td>13.850</td>\n    </tr>\n    <tr>\n      <th>2</th>\n      <td>Jesusita Kinney</td>\n      <td>satsumas1954@yahoo.com</td>\n      <td>943 Gibb Highway</td>\n      <td>41535</td>\n      <td>3717 863466 48574</td>\n      <td>21254</td>\n      <td>21.254</td>\n    </tr>\n    <tr>\n      <th>3</th>\n      <td>Mose Gordon</td>\n      <td>antifowl1875@gmail.com</td>\n      <td>1073 Fell Trace</td>\n      <td>16098</td>\n      <td>5413 1700 6989 2835</td>\n      <td>5221</td>\n      <td>5.221</td>\n    </tr>\n    <tr>\n      <th>4</th>\n      <td>Cesar Valentine</td>\n      <td>acetaminol1979@yahoo.com</td>\n      <td>805 Marshall Promenade</td>\n      <td>99895</td>\n      <td>5173 4883 9215 4743</td>\n      <td>8300</td>\n      <td>8.300</td>\n    </tr>\n  </tbody>\n</table>\n</div>"
     },
     "metadata": {},
     "execution_count": 11
    }
   ],
   "source": [
    "customer_df[\"Balance_1K\"] = customer_df[\"Balance\"] / 1000\n",
    "customer_df.head()"
   ]
  },
  {
   "cell_type": "code",
   "execution_count": 14,
   "metadata": {},
   "outputs": [
    {
     "output_type": "execute_result",
     "data": {
      "text/plain": [
       "         full_name                     Email  ...     fname      lname\n",
       "0  Altha Frederick  unhideable1966@gmail.com  ...     Altha  Frederick\n",
       "1  Nickolas Harvey   allgood1803@outlook.com  ...  Nickolas     Harvey\n",
       "2  Jesusita Kinney    satsumas1954@yahoo.com  ...  Jesusita     Kinney\n",
       "3      Mose Gordon    antifowl1875@gmail.com  ...      Mose     Gordon\n",
       "4  Cesar Valentine  acetaminol1979@yahoo.com  ...     Cesar  Valentine\n",
       "\n",
       "[5 rows x 9 columns]"
      ],
      "text/html": "<div>\n<style scoped>\n    .dataframe tbody tr th:only-of-type {\n        vertical-align: middle;\n    }\n\n    .dataframe tbody tr th {\n        vertical-align: top;\n    }\n\n    .dataframe thead th {\n        text-align: right;\n    }\n</style>\n<table border=\"1\" class=\"dataframe\">\n  <thead>\n    <tr style=\"text-align: right;\">\n      <th></th>\n      <th>full_name</th>\n      <th>Email</th>\n      <th>Address</th>\n      <th>Zip</th>\n      <th>credit_card</th>\n      <th>Balance</th>\n      <th>Balance_1K</th>\n      <th>fname</th>\n      <th>lname</th>\n    </tr>\n  </thead>\n  <tbody>\n    <tr>\n      <th>0</th>\n      <td>Altha Frederick</td>\n      <td>unhideable1966@gmail.com</td>\n      <td>67 John Maher Extension</td>\n      <td>31353</td>\n      <td>2524 2317 2139 4751</td>\n      <td>21511</td>\n      <td>21.511</td>\n      <td>Altha</td>\n      <td>Frederick</td>\n    </tr>\n    <tr>\n      <th>1</th>\n      <td>Nickolas Harvey</td>\n      <td>allgood1803@outlook.com</td>\n      <td>1200 Madera Plaza</td>\n      <td>1922</td>\n      <td>4756 0997 9568 1329</td>\n      <td>13850</td>\n      <td>13.850</td>\n      <td>Nickolas</td>\n      <td>Harvey</td>\n    </tr>\n    <tr>\n      <th>2</th>\n      <td>Jesusita Kinney</td>\n      <td>satsumas1954@yahoo.com</td>\n      <td>943 Gibb Highway</td>\n      <td>41535</td>\n      <td>3717 863466 48574</td>\n      <td>21254</td>\n      <td>21.254</td>\n      <td>Jesusita</td>\n      <td>Kinney</td>\n    </tr>\n    <tr>\n      <th>3</th>\n      <td>Mose Gordon</td>\n      <td>antifowl1875@gmail.com</td>\n      <td>1073 Fell Trace</td>\n      <td>16098</td>\n      <td>5413 1700 6989 2835</td>\n      <td>5221</td>\n      <td>5.221</td>\n      <td>Mose</td>\n      <td>Gordon</td>\n    </tr>\n    <tr>\n      <th>4</th>\n      <td>Cesar Valentine</td>\n      <td>acetaminol1979@yahoo.com</td>\n      <td>805 Marshall Promenade</td>\n      <td>99895</td>\n      <td>5173 4883 9215 4743</td>\n      <td>8300</td>\n      <td>8.300</td>\n      <td>Cesar</td>\n      <td>Valentine</td>\n    </tr>\n  </tbody>\n</table>\n</div>"
     },
     "metadata": {},
     "execution_count": 14
    }
   ],
   "source": [
    "names = customer_df[\"full_name\"].str.split(\" \", expand=True)\n",
    "customer_df[\"fname\"] = names[0]\n",
    "customer_df[\"lname\"] = names[1]\n",
    "customer_df.head()"
   ]
  },
  {
   "cell_type": "code",
   "execution_count": 16,
   "metadata": {},
   "outputs": [
    {
     "output_type": "execute_result",
     "data": {
      "text/plain": [
       "                      Email                  Address  ...     fname      lname\n",
       "0  unhideable1966@gmail.com  67 John Maher Extension  ...     Altha  Frederick\n",
       "1   allgood1803@outlook.com        1200 Madera Plaza  ...  Nickolas     Harvey\n",
       "2    satsumas1954@yahoo.com         943 Gibb Highway  ...  Jesusita     Kinney\n",
       "3    antifowl1875@gmail.com          1073 Fell Trace  ...      Mose     Gordon\n",
       "4  acetaminol1979@yahoo.com   805 Marshall Promenade  ...     Cesar  Valentine\n",
       "\n",
       "[5 rows x 8 columns]"
      ],
      "text/html": "<div>\n<style scoped>\n    .dataframe tbody tr th:only-of-type {\n        vertical-align: middle;\n    }\n\n    .dataframe tbody tr th {\n        vertical-align: top;\n    }\n\n    .dataframe thead th {\n        text-align: right;\n    }\n</style>\n<table border=\"1\" class=\"dataframe\">\n  <thead>\n    <tr style=\"text-align: right;\">\n      <th></th>\n      <th>Email</th>\n      <th>Address</th>\n      <th>Zip</th>\n      <th>credit_card</th>\n      <th>Balance</th>\n      <th>Balance_1K</th>\n      <th>fname</th>\n      <th>lname</th>\n    </tr>\n  </thead>\n  <tbody>\n    <tr>\n      <th>0</th>\n      <td>unhideable1966@gmail.com</td>\n      <td>67 John Maher Extension</td>\n      <td>31353</td>\n      <td>2524 2317 2139 4751</td>\n      <td>21511</td>\n      <td>21.511</td>\n      <td>Altha</td>\n      <td>Frederick</td>\n    </tr>\n    <tr>\n      <th>1</th>\n      <td>allgood1803@outlook.com</td>\n      <td>1200 Madera Plaza</td>\n      <td>1922</td>\n      <td>4756 0997 9568 1329</td>\n      <td>13850</td>\n      <td>13.850</td>\n      <td>Nickolas</td>\n      <td>Harvey</td>\n    </tr>\n    <tr>\n      <th>2</th>\n      <td>satsumas1954@yahoo.com</td>\n      <td>943 Gibb Highway</td>\n      <td>41535</td>\n      <td>3717 863466 48574</td>\n      <td>21254</td>\n      <td>21.254</td>\n      <td>Jesusita</td>\n      <td>Kinney</td>\n    </tr>\n    <tr>\n      <th>3</th>\n      <td>antifowl1875@gmail.com</td>\n      <td>1073 Fell Trace</td>\n      <td>16098</td>\n      <td>5413 1700 6989 2835</td>\n      <td>5221</td>\n      <td>5.221</td>\n      <td>Mose</td>\n      <td>Gordon</td>\n    </tr>\n    <tr>\n      <th>4</th>\n      <td>acetaminol1979@yahoo.com</td>\n      <td>805 Marshall Promenade</td>\n      <td>99895</td>\n      <td>5173 4883 9215 4743</td>\n      <td>8300</td>\n      <td>8.300</td>\n      <td>Cesar</td>\n      <td>Valentine</td>\n    </tr>\n  </tbody>\n</table>\n</div>"
     },
     "metadata": {},
     "execution_count": 16
    }
   ],
   "source": [
    "customer_df.drop(columns=[\"full_name\"], inplace=True)\n",
    "customer_df.head()"
   ]
  },
  {
   "cell_type": "code",
   "execution_count": null,
   "metadata": {},
   "outputs": [],
   "source": []
  }
 ]
}