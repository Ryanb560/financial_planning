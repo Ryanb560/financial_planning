{
 "metadata": {
  "language_info": {
   "codemirror_mode": {
    "name": "ipython",
    "version": 3
   },
   "file_extension": ".py",
   "mimetype": "text/x-python",
   "name": "python",
   "nbconvert_exporter": "python",
   "pygments_lexer": "ipython3",
   "version": "3.6.9-final"
  },
  "orig_nbformat": 2,
  "kernelspec": {
   "name": "python3",
   "display_name": "Python 3.6.9 64-bit ('base': conda)",
   "metadata": {
    "interpreter": {
     "hash": "a8383eef294e6eb532b9a275f580f77018a4c5ddf6bd4ca154421d62e44b7362"
    }
   }
  }
 },
 "nbformat": 4,
 "nbformat_minor": 2,
 "cells": [
  {
   "cell_type": "code",
   "execution_count": 1,
   "metadata": {},
   "outputs": [],
   "source": [
    "import pandas as pd"
   ]
  },
  {
   "cell_type": "code",
   "execution_count": 2,
   "metadata": {},
   "outputs": [
    {
     "output_type": "execute_result",
     "data": {
      "text/plain": [
       "     order_no customer_no order_total  order_date\n",
       "0   452517125    CM458565     $141.25  01-10-2019\n",
       "1    45251825    CJ458565       14.00  04/25/2019\n",
       "2  4465241327     AK45765    $1103.36  04-25-2019\n",
       "3  4465241327     AK45765    $1103.36  04-25-2019\n",
       "4   413853121    CM458565         NaN   4/24/2019"
      ],
      "text/html": "<div>\n<style scoped>\n    .dataframe tbody tr th:only-of-type {\n        vertical-align: middle;\n    }\n\n    .dataframe tbody tr th {\n        vertical-align: top;\n    }\n\n    .dataframe thead th {\n        text-align: right;\n    }\n</style>\n<table border=\"1\" class=\"dataframe\">\n  <thead>\n    <tr style=\"text-align: right;\">\n      <th></th>\n      <th>order_no</th>\n      <th>customer_no</th>\n      <th>order_total</th>\n      <th>order_date</th>\n    </tr>\n  </thead>\n  <tbody>\n    <tr>\n      <th>0</th>\n      <td>452517125</td>\n      <td>CM458565</td>\n      <td>$141.25</td>\n      <td>01-10-2019</td>\n    </tr>\n    <tr>\n      <th>1</th>\n      <td>45251825</td>\n      <td>CJ458565</td>\n      <td>14.00</td>\n      <td>04/25/2019</td>\n    </tr>\n    <tr>\n      <th>2</th>\n      <td>4465241327</td>\n      <td>AK45765</td>\n      <td>$1103.36</td>\n      <td>04-25-2019</td>\n    </tr>\n    <tr>\n      <th>3</th>\n      <td>4465241327</td>\n      <td>AK45765</td>\n      <td>$1103.36</td>\n      <td>04-25-2019</td>\n    </tr>\n    <tr>\n      <th>4</th>\n      <td>413853121</td>\n      <td>CM458565</td>\n      <td>NaN</td>\n      <td>4/24/2019</td>\n    </tr>\n  </tbody>\n</table>\n</div>"
     },
     "metadata": {},
     "execution_count": 2
    }
   ],
   "source": [
    "csv_data = pd.read_csv(\"../Resources/order_data.csv\")\n",
    "csv_data.head()"
   ]
  },
  {
   "source": [
    "- dollar signs\n",
    "- dates aren't same format\n",
    "- order total has NaNs\n",
    "- dupe data\n",
    "\n",
    "\n",
    "\"outside of class\" - these might be things to deal with:\n",
    "- customer num is combo num/letters\n",
    "- inconsistent size of order_no, cust_no\n",
    "- data resolution/validation\n",
    "- quotes in strings"
   ],
   "cell_type": "markdown",
   "metadata": {}
  },
  {
   "cell_type": "code",
   "execution_count": 3,
   "metadata": {},
   "outputs": [
    {
     "output_type": "execute_result",
     "data": {
      "text/plain": [
       "order_no        int64\n",
       "customer_no    object\n",
       "order_total    object\n",
       "order_date     object\n",
       "dtype: object"
      ]
     },
     "metadata": {},
     "execution_count": 3
    }
   ],
   "source": [
    "csv_data.dtypes"
   ]
  },
  {
   "cell_type": "code",
   "execution_count": 4,
   "metadata": {},
   "outputs": [
    {
     "output_type": "execute_result",
     "data": {
      "text/plain": [
       "order_no       8\n",
       "customer_no    7\n",
       "order_total    7\n",
       "order_date     8\n",
       "dtype: int64"
      ]
     },
     "metadata": {},
     "execution_count": 4
    }
   ],
   "source": [
    "csv_data.count()"
   ]
  },
  {
   "cell_type": "code",
   "execution_count": 6,
   "metadata": {},
   "outputs": [
    {
     "output_type": "execute_result",
     "data": {
      "text/plain": [
       "CM458565    2\n",
       "AK45765     2\n",
       "CJ458565    1\n",
       "TV4663      1\n",
       "2124        1\n",
       "Name: customer_no, dtype: int64"
      ]
     },
     "metadata": {},
     "execution_count": 6
    }
   ],
   "source": [
    "csv_data[\"customer_no\"].value_counts()"
   ]
  },
  {
   "cell_type": "code",
   "execution_count": 8,
   "metadata": {},
   "outputs": [
    {
     "output_type": "execute_result",
     "data": {
      "text/plain": [
       "order_no       0\n",
       "customer_no    1\n",
       "order_total    1\n",
       "order_date     0\n",
       "dtype: int64"
      ]
     },
     "metadata": {},
     "execution_count": 8
    }
   ],
   "source": [
    "csv_data.isnull().sum()"
   ]
  },
  {
   "cell_type": "code",
   "execution_count": 10,
   "metadata": {},
   "outputs": [
    {
     "output_type": "execute_result",
     "data": {
      "text/plain": [
       "     order_no customer_no order_total  order_date\n",
       "0   452517125    CM458565     $141.25  01-10-2019\n",
       "1    45251825    CJ458565       14.00  04/25/2019\n",
       "2  4465241327     AK45765    $1103.36  04-25-2019\n",
       "3  4465241327     AK45765    $1103.36  04-25-2019\n",
       "4   413853121    CM458565         NaN   4/24/2019\n",
       "5    45235825      TV4663       65.42  04-29-2019\n",
       "6     2356363        2124   258936.12  04-29-2019\n",
       "7   452519232     Unknown     $141.25  01-10-2019"
      ],
      "text/html": "<div>\n<style scoped>\n    .dataframe tbody tr th:only-of-type {\n        vertical-align: middle;\n    }\n\n    .dataframe tbody tr th {\n        vertical-align: top;\n    }\n\n    .dataframe thead th {\n        text-align: right;\n    }\n</style>\n<table border=\"1\" class=\"dataframe\">\n  <thead>\n    <tr style=\"text-align: right;\">\n      <th></th>\n      <th>order_no</th>\n      <th>customer_no</th>\n      <th>order_total</th>\n      <th>order_date</th>\n    </tr>\n  </thead>\n  <tbody>\n    <tr>\n      <th>0</th>\n      <td>452517125</td>\n      <td>CM458565</td>\n      <td>$141.25</td>\n      <td>01-10-2019</td>\n    </tr>\n    <tr>\n      <th>1</th>\n      <td>45251825</td>\n      <td>CJ458565</td>\n      <td>14.00</td>\n      <td>04/25/2019</td>\n    </tr>\n    <tr>\n      <th>2</th>\n      <td>4465241327</td>\n      <td>AK45765</td>\n      <td>$1103.36</td>\n      <td>04-25-2019</td>\n    </tr>\n    <tr>\n      <th>3</th>\n      <td>4465241327</td>\n      <td>AK45765</td>\n      <td>$1103.36</td>\n      <td>04-25-2019</td>\n    </tr>\n    <tr>\n      <th>4</th>\n      <td>413853121</td>\n      <td>CM458565</td>\n      <td>NaN</td>\n      <td>4/24/2019</td>\n    </tr>\n    <tr>\n      <th>5</th>\n      <td>45235825</td>\n      <td>TV4663</td>\n      <td>65.42</td>\n      <td>04-29-2019</td>\n    </tr>\n    <tr>\n      <th>6</th>\n      <td>2356363</td>\n      <td>2124</td>\n      <td>258936.12</td>\n      <td>04-29-2019</td>\n    </tr>\n    <tr>\n      <th>7</th>\n      <td>452519232</td>\n      <td>Unknown</td>\n      <td>$141.25</td>\n      <td>01-10-2019</td>\n    </tr>\n  </tbody>\n</table>\n</div>"
     },
     "metadata": {},
     "execution_count": 10
    }
   ],
   "source": [
    "csv_data[\"customer_no\"] = csv_data[\"customer_no\"].fillna(\"Unknown\")\n",
    "csv_data"
   ]
  },
  {
   "cell_type": "code",
   "execution_count": 11,
   "metadata": {},
   "outputs": [
    {
     "output_type": "execute_result",
     "data": {
      "text/plain": [
       "     order_no customer_no order_total  order_date\n",
       "0   452517125    CM458565     $141.25  01-10-2019\n",
       "1    45251825    CJ458565       14.00  04/25/2019\n",
       "2  4465241327     AK45765    $1103.36  04-25-2019\n",
       "3  4465241327     AK45765    $1103.36  04-25-2019\n",
       "5    45235825      TV4663       65.42  04-29-2019\n",
       "6     2356363        2124   258936.12  04-29-2019\n",
       "7   452519232     Unknown     $141.25  01-10-2019"
      ],
      "text/html": "<div>\n<style scoped>\n    .dataframe tbody tr th:only-of-type {\n        vertical-align: middle;\n    }\n\n    .dataframe tbody tr th {\n        vertical-align: top;\n    }\n\n    .dataframe thead th {\n        text-align: right;\n    }\n</style>\n<table border=\"1\" class=\"dataframe\">\n  <thead>\n    <tr style=\"text-align: right;\">\n      <th></th>\n      <th>order_no</th>\n      <th>customer_no</th>\n      <th>order_total</th>\n      <th>order_date</th>\n    </tr>\n  </thead>\n  <tbody>\n    <tr>\n      <th>0</th>\n      <td>452517125</td>\n      <td>CM458565</td>\n      <td>$141.25</td>\n      <td>01-10-2019</td>\n    </tr>\n    <tr>\n      <th>1</th>\n      <td>45251825</td>\n      <td>CJ458565</td>\n      <td>14.00</td>\n      <td>04/25/2019</td>\n    </tr>\n    <tr>\n      <th>2</th>\n      <td>4465241327</td>\n      <td>AK45765</td>\n      <td>$1103.36</td>\n      <td>04-25-2019</td>\n    </tr>\n    <tr>\n      <th>3</th>\n      <td>4465241327</td>\n      <td>AK45765</td>\n      <td>$1103.36</td>\n      <td>04-25-2019</td>\n    </tr>\n    <tr>\n      <th>5</th>\n      <td>45235825</td>\n      <td>TV4663</td>\n      <td>65.42</td>\n      <td>04-29-2019</td>\n    </tr>\n    <tr>\n      <th>6</th>\n      <td>2356363</td>\n      <td>2124</td>\n      <td>258936.12</td>\n      <td>04-29-2019</td>\n    </tr>\n    <tr>\n      <th>7</th>\n      <td>452519232</td>\n      <td>Unknown</td>\n      <td>$141.25</td>\n      <td>01-10-2019</td>\n    </tr>\n  </tbody>\n</table>\n</div>"
     },
     "metadata": {},
     "execution_count": 11
    }
   ],
   "source": [
    "csv_data.dropna(inplace=True)\n",
    "csv_data"
   ]
  },
  {
   "cell_type": "code",
   "execution_count": 13,
   "metadata": {},
   "outputs": [
    {
     "output_type": "execute_result",
     "data": {
      "text/plain": [
       "0    False\n",
       "1    False\n",
       "2    False\n",
       "3     True\n",
       "5    False\n",
       "6    False\n",
       "7    False\n",
       "dtype: bool"
      ]
     },
     "metadata": {},
     "execution_count": 13
    }
   ],
   "source": [
    "csv_data.duplicated()"
   ]
  },
  {
   "cell_type": "code",
   "execution_count": 16,
   "metadata": {},
   "outputs": [],
   "source": [
    "csv_data.drop_duplicates(inplace=True)"
   ]
  },
  {
   "cell_type": "code",
   "execution_count": 17,
   "metadata": {},
   "outputs": [
    {
     "output_type": "execute_result",
     "data": {
      "text/plain": [
       "     order_no customer_no order_total  order_date\n",
       "0   452517125    CM458565     $141.25  01-10-2019\n",
       "1    45251825    CJ458565       14.00  04/25/2019\n",
       "2  4465241327     AK45765    $1103.36  04-25-2019\n",
       "5    45235825      TV4663       65.42  04-29-2019\n",
       "6     2356363        2124   258936.12  04-29-2019\n",
       "7   452519232     Unknown     $141.25  01-10-2019"
      ],
      "text/html": "<div>\n<style scoped>\n    .dataframe tbody tr th:only-of-type {\n        vertical-align: middle;\n    }\n\n    .dataframe tbody tr th {\n        vertical-align: top;\n    }\n\n    .dataframe thead th {\n        text-align: right;\n    }\n</style>\n<table border=\"1\" class=\"dataframe\">\n  <thead>\n    <tr style=\"text-align: right;\">\n      <th></th>\n      <th>order_no</th>\n      <th>customer_no</th>\n      <th>order_total</th>\n      <th>order_date</th>\n    </tr>\n  </thead>\n  <tbody>\n    <tr>\n      <th>0</th>\n      <td>452517125</td>\n      <td>CM458565</td>\n      <td>$141.25</td>\n      <td>01-10-2019</td>\n    </tr>\n    <tr>\n      <th>1</th>\n      <td>45251825</td>\n      <td>CJ458565</td>\n      <td>14.00</td>\n      <td>04/25/2019</td>\n    </tr>\n    <tr>\n      <th>2</th>\n      <td>4465241327</td>\n      <td>AK45765</td>\n      <td>$1103.36</td>\n      <td>04-25-2019</td>\n    </tr>\n    <tr>\n      <th>5</th>\n      <td>45235825</td>\n      <td>TV4663</td>\n      <td>65.42</td>\n      <td>04-29-2019</td>\n    </tr>\n    <tr>\n      <th>6</th>\n      <td>2356363</td>\n      <td>2124</td>\n      <td>258936.12</td>\n      <td>04-29-2019</td>\n    </tr>\n    <tr>\n      <th>7</th>\n      <td>452519232</td>\n      <td>Unknown</td>\n      <td>$141.25</td>\n      <td>01-10-2019</td>\n    </tr>\n  </tbody>\n</table>\n</div>"
     },
     "metadata": {},
     "execution_count": 17
    }
   ],
   "source": [
    "csv_data"
   ]
  },
  {
   "cell_type": "code",
   "execution_count": 19,
   "metadata": {},
   "outputs": [],
   "source": [
    "csv_data[\"order_total\"] = csv_data[\"order_total\"].str.replace(\"$\",\"\")"
   ]
  },
  {
   "cell_type": "code",
   "execution_count": 21,
   "metadata": {},
   "outputs": [
    {
     "output_type": "execute_result",
     "data": {
      "text/plain": [
       "     order_no customer_no order_total  order_date\n",
       "0   452517125    CM458565      141.25  01-10-2019\n",
       "1    45251825    CJ458565       14.00  04/25/2019\n",
       "2  4465241327     AK45765     1103.36  04-25-2019\n",
       "5    45235825      TV4663       65.42  04-29-2019\n",
       "6     2356363        2124   258936.12  04-29-2019\n",
       "7   452519232     Unknown      141.25  01-10-2019"
      ],
      "text/html": "<div>\n<style scoped>\n    .dataframe tbody tr th:only-of-type {\n        vertical-align: middle;\n    }\n\n    .dataframe tbody tr th {\n        vertical-align: top;\n    }\n\n    .dataframe thead th {\n        text-align: right;\n    }\n</style>\n<table border=\"1\" class=\"dataframe\">\n  <thead>\n    <tr style=\"text-align: right;\">\n      <th></th>\n      <th>order_no</th>\n      <th>customer_no</th>\n      <th>order_total</th>\n      <th>order_date</th>\n    </tr>\n  </thead>\n  <tbody>\n    <tr>\n      <th>0</th>\n      <td>452517125</td>\n      <td>CM458565</td>\n      <td>141.25</td>\n      <td>01-10-2019</td>\n    </tr>\n    <tr>\n      <th>1</th>\n      <td>45251825</td>\n      <td>CJ458565</td>\n      <td>14.00</td>\n      <td>04/25/2019</td>\n    </tr>\n    <tr>\n      <th>2</th>\n      <td>4465241327</td>\n      <td>AK45765</td>\n      <td>1103.36</td>\n      <td>04-25-2019</td>\n    </tr>\n    <tr>\n      <th>5</th>\n      <td>45235825</td>\n      <td>TV4663</td>\n      <td>65.42</td>\n      <td>04-29-2019</td>\n    </tr>\n    <tr>\n      <th>6</th>\n      <td>2356363</td>\n      <td>2124</td>\n      <td>258936.12</td>\n      <td>04-29-2019</td>\n    </tr>\n    <tr>\n      <th>7</th>\n      <td>452519232</td>\n      <td>Unknown</td>\n      <td>141.25</td>\n      <td>01-10-2019</td>\n    </tr>\n  </tbody>\n</table>\n</div>"
     },
     "metadata": {},
     "execution_count": 21
    }
   ],
   "source": [
    "csv_data"
   ]
  },
  {
   "cell_type": "code",
   "execution_count": 22,
   "metadata": {},
   "outputs": [
    {
     "output_type": "execute_result",
     "data": {
      "text/plain": [
       "order_no        int64\n",
       "customer_no    object\n",
       "order_total    object\n",
       "order_date     object\n",
       "dtype: object"
      ]
     },
     "metadata": {},
     "execution_count": 22
    }
   ],
   "source": [
    "csv_data.dtypes"
   ]
  },
  {
   "cell_type": "code",
   "execution_count": 23,
   "metadata": {},
   "outputs": [],
   "source": [
    "csv_data[\"order_total\"] = csv_data[\"order_total\"].astype(\"float\")"
   ]
  },
  {
   "cell_type": "code",
   "execution_count": 24,
   "metadata": {},
   "outputs": [
    {
     "output_type": "execute_result",
     "data": {
      "text/plain": [
       "     order_no customer_no  order_total  order_date\n",
       "0   452517125    CM458565       141.25  01-10-2019\n",
       "1    45251825    CJ458565        14.00  04/25/2019\n",
       "2  4465241327     AK45765      1103.36  04-25-2019\n",
       "5    45235825      TV4663        65.42  04-29-2019\n",
       "6     2356363        2124    258936.12  04-29-2019\n",
       "7   452519232     Unknown       141.25  01-10-2019"
      ],
      "text/html": "<div>\n<style scoped>\n    .dataframe tbody tr th:only-of-type {\n        vertical-align: middle;\n    }\n\n    .dataframe tbody tr th {\n        vertical-align: top;\n    }\n\n    .dataframe thead th {\n        text-align: right;\n    }\n</style>\n<table border=\"1\" class=\"dataframe\">\n  <thead>\n    <tr style=\"text-align: right;\">\n      <th></th>\n      <th>order_no</th>\n      <th>customer_no</th>\n      <th>order_total</th>\n      <th>order_date</th>\n    </tr>\n  </thead>\n  <tbody>\n    <tr>\n      <th>0</th>\n      <td>452517125</td>\n      <td>CM458565</td>\n      <td>141.25</td>\n      <td>01-10-2019</td>\n    </tr>\n    <tr>\n      <th>1</th>\n      <td>45251825</td>\n      <td>CJ458565</td>\n      <td>14.00</td>\n      <td>04/25/2019</td>\n    </tr>\n    <tr>\n      <th>2</th>\n      <td>4465241327</td>\n      <td>AK45765</td>\n      <td>1103.36</td>\n      <td>04-25-2019</td>\n    </tr>\n    <tr>\n      <th>5</th>\n      <td>45235825</td>\n      <td>TV4663</td>\n      <td>65.42</td>\n      <td>04-29-2019</td>\n    </tr>\n    <tr>\n      <th>6</th>\n      <td>2356363</td>\n      <td>2124</td>\n      <td>258936.12</td>\n      <td>04-29-2019</td>\n    </tr>\n    <tr>\n      <th>7</th>\n      <td>452519232</td>\n      <td>Unknown</td>\n      <td>141.25</td>\n      <td>01-10-2019</td>\n    </tr>\n  </tbody>\n</table>\n</div>"
     },
     "metadata": {},
     "execution_count": 24
    }
   ],
   "source": [
    "csv_data"
   ]
  },
  {
   "cell_type": "code",
   "execution_count": 25,
   "metadata": {},
   "outputs": [
    {
     "output_type": "execute_result",
     "data": {
      "text/plain": [
       "order_no         int64\n",
       "customer_no     object\n",
       "order_total    float64\n",
       "order_date      object\n",
       "dtype: object"
      ]
     },
     "metadata": {},
     "execution_count": 25
    }
   ],
   "source": [
    "csv_data.dtypes"
   ]
  },
  {
   "cell_type": "code",
   "execution_count": null,
   "metadata": {},
   "outputs": [],
   "source": []
  }
 ]
}