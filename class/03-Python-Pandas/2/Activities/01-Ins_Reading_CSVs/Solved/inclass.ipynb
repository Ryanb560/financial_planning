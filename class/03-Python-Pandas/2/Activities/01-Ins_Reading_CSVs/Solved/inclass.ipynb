{
 "metadata": {
  "language_info": {
   "codemirror_mode": {
    "name": "ipython",
    "version": 3
   },
   "file_extension": ".py",
   "mimetype": "text/x-python",
   "name": "python",
   "nbconvert_exporter": "python",
   "pygments_lexer": "ipython3",
   "version": "3.6.9-final"
  },
  "orig_nbformat": 2,
  "kernelspec": {
   "name": "python3",
   "display_name": "Python 3.6.9 64-bit ('base': conda)",
   "metadata": {
    "interpreter": {
     "hash": "a8383eef294e6eb532b9a275f580f77018a4c5ddf6bd4ca154421d62e44b7362"
    }
   }
  }
 },
 "nbformat": 4,
 "nbformat_minor": 2,
 "cells": [
  {
   "cell_type": "code",
   "execution_count": 2,
   "metadata": {},
   "outputs": [],
   "source": [
    "import pandas as pd"
   ]
  },
  {
   "cell_type": "code",
   "execution_count": 7,
   "metadata": {},
   "outputs": [
    {
     "output_type": "execute_result",
     "data": {
      "text/plain": [
       "          FullName                    Email                   Address    Zip  \\\n",
       "0    Elwanda White       alyre2036@live.com        352 Lakeshore Mall   9236   \n",
       "1   Lyndon Elliott   arrowy1873@outlook.com          1234 Avery Plaza   1330   \n",
       "2   Daisey Sellers   toucan2024@outlook.com         469 Elwood Street   7631   \n",
       "3     Issac Reeves     asarin1958@gmail.com          565 Phelps Field  81168   \n",
       "4  Bradford Kinney   mibound1801@yandex.com  853 Mission Rock Freeway  41721   \n",
       "5     Fermina Cobb  kingfisher2013@live.com          929 Prague Trail  16625   \n",
       "6  Merrill Andrews      beechy2059@live.com          41 Clarion Drive  14344   \n",
       "7   Claris Pearson   kiwifruit2045@live.com          638 Lundeen Park  51609   \n",
       "\n",
       "            CreditCard  SalePrice  \n",
       "0  5327 0855 9720 7055      84.33  \n",
       "1    3717 498777 19636     879.95  \n",
       "2    3758 579477 35734     907.58  \n",
       "3  4400 0380 4162 1622     545.88  \n",
       "4    3712 263405 60178     517.49  \n",
       "5  2351 7156 8193 8639     889.95  \n",
       "6  5285 9811 3860 0420     472.81  \n",
       "7  2450 4670 0525 3887     218.24  "
      ],
      "text/html": "<div>\n<style scoped>\n    .dataframe tbody tr th:only-of-type {\n        vertical-align: middle;\n    }\n\n    .dataframe tbody tr th {\n        vertical-align: top;\n    }\n\n    .dataframe thead th {\n        text-align: right;\n    }\n</style>\n<table border=\"1\" class=\"dataframe\">\n  <thead>\n    <tr style=\"text-align: right;\">\n      <th></th>\n      <th>FullName</th>\n      <th>Email</th>\n      <th>Address</th>\n      <th>Zip</th>\n      <th>CreditCard</th>\n      <th>SalePrice</th>\n    </tr>\n  </thead>\n  <tbody>\n    <tr>\n      <th>0</th>\n      <td>Elwanda White</td>\n      <td>alyre2036@live.com</td>\n      <td>352 Lakeshore Mall</td>\n      <td>9236</td>\n      <td>5327 0855 9720 7055</td>\n      <td>84.33</td>\n    </tr>\n    <tr>\n      <th>1</th>\n      <td>Lyndon Elliott</td>\n      <td>arrowy1873@outlook.com</td>\n      <td>1234 Avery Plaza</td>\n      <td>1330</td>\n      <td>3717 498777 19636</td>\n      <td>879.95</td>\n    </tr>\n    <tr>\n      <th>2</th>\n      <td>Daisey Sellers</td>\n      <td>toucan2024@outlook.com</td>\n      <td>469 Elwood Street</td>\n      <td>7631</td>\n      <td>3758 579477 35734</td>\n      <td>907.58</td>\n    </tr>\n    <tr>\n      <th>3</th>\n      <td>Issac Reeves</td>\n      <td>asarin1958@gmail.com</td>\n      <td>565 Phelps Field</td>\n      <td>81168</td>\n      <td>4400 0380 4162 1622</td>\n      <td>545.88</td>\n    </tr>\n    <tr>\n      <th>4</th>\n      <td>Bradford Kinney</td>\n      <td>mibound1801@yandex.com</td>\n      <td>853 Mission Rock Freeway</td>\n      <td>41721</td>\n      <td>3712 263405 60178</td>\n      <td>517.49</td>\n    </tr>\n    <tr>\n      <th>5</th>\n      <td>Fermina Cobb</td>\n      <td>kingfisher2013@live.com</td>\n      <td>929 Prague Trail</td>\n      <td>16625</td>\n      <td>2351 7156 8193 8639</td>\n      <td>889.95</td>\n    </tr>\n    <tr>\n      <th>6</th>\n      <td>Merrill Andrews</td>\n      <td>beechy2059@live.com</td>\n      <td>41 Clarion Drive</td>\n      <td>14344</td>\n      <td>5285 9811 3860 0420</td>\n      <td>472.81</td>\n    </tr>\n    <tr>\n      <th>7</th>\n      <td>Claris Pearson</td>\n      <td>kiwifruit2045@live.com</td>\n      <td>638 Lundeen Park</td>\n      <td>51609</td>\n      <td>2450 4670 0525 3887</td>\n      <td>218.24</td>\n    </tr>\n  </tbody>\n</table>\n</div>"
     },
     "metadata": {},
     "execution_count": 7
    }
   ],
   "source": [
    "sales_dataframe=pd.read_csv(\"../Resources/sales.csv\")\n",
    "sales_dataframe.head(8)"
   ]
  },
  {
   "cell_type": "code",
   "execution_count": 9,
   "metadata": {},
   "outputs": [
    {
     "output_type": "execute_result",
     "data": {
      "text/plain": [
       "                    0                          1                         2  \\\n",
       "0       Elwanda White         alyre2036@live.com        352 Lakeshore Mall   \n",
       "1      Lyndon Elliott     arrowy1873@outlook.com          1234 Avery Plaza   \n",
       "2      Daisey Sellers     toucan2024@outlook.com         469 Elwood Street   \n",
       "3        Issac Reeves       asarin1958@gmail.com          565 Phelps Field   \n",
       "4     Bradford Kinney     mibound1801@yandex.com  853 Mission Rock Freeway   \n",
       "..                ...                        ...                       ...   \n",
       "95         Basil Rios       holloo1814@yahoo.com         605 Sloat Terrace   \n",
       "96      Hipolito Rios  calefacient2049@gmail.com   1248 Fountain Boulevard   \n",
       "97  Clayton Robertson         coner2015@live.com         230 Paper Parkway   \n",
       "98      Tony Chandler     sexillion2061@live.com      118 Flood Plantation   \n",
       "99        Cuc Mcgowan   dispatched1820@gmail.com        87 Louisiana Grove   \n",
       "\n",
       "        3                    4       5  \n",
       "0    9236  5327 0855 9720 7055   84.33  \n",
       "1    1330    3717 498777 19636  879.95  \n",
       "2    7631    3758 579477 35734  907.58  \n",
       "3   81168  4400 0380 4162 1622  545.88  \n",
       "4   41721    3712 263405 60178  517.49  \n",
       "..    ...                  ...     ...  \n",
       "95   8108  5581 7245 8451 9384  937.14  \n",
       "96  37077  2333 0264 5343 2022  645.82  \n",
       "97  57242  2414 3939 6501 2607  128.73  \n",
       "98  70135  5581 8059 1883 1841  820.00  \n",
       "99  70959  2678 4140 5531 3894  764.69  \n",
       "\n",
       "[100 rows x 6 columns]"
      ],
      "text/html": "<div>\n<style scoped>\n    .dataframe tbody tr th:only-of-type {\n        vertical-align: middle;\n    }\n\n    .dataframe tbody tr th {\n        vertical-align: top;\n    }\n\n    .dataframe thead th {\n        text-align: right;\n    }\n</style>\n<table border=\"1\" class=\"dataframe\">\n  <thead>\n    <tr style=\"text-align: right;\">\n      <th></th>\n      <th>0</th>\n      <th>1</th>\n      <th>2</th>\n      <th>3</th>\n      <th>4</th>\n      <th>5</th>\n    </tr>\n  </thead>\n  <tbody>\n    <tr>\n      <th>0</th>\n      <td>Elwanda White</td>\n      <td>alyre2036@live.com</td>\n      <td>352 Lakeshore Mall</td>\n      <td>9236</td>\n      <td>5327 0855 9720 7055</td>\n      <td>84.33</td>\n    </tr>\n    <tr>\n      <th>1</th>\n      <td>Lyndon Elliott</td>\n      <td>arrowy1873@outlook.com</td>\n      <td>1234 Avery Plaza</td>\n      <td>1330</td>\n      <td>3717 498777 19636</td>\n      <td>879.95</td>\n    </tr>\n    <tr>\n      <th>2</th>\n      <td>Daisey Sellers</td>\n      <td>toucan2024@outlook.com</td>\n      <td>469 Elwood Street</td>\n      <td>7631</td>\n      <td>3758 579477 35734</td>\n      <td>907.58</td>\n    </tr>\n    <tr>\n      <th>3</th>\n      <td>Issac Reeves</td>\n      <td>asarin1958@gmail.com</td>\n      <td>565 Phelps Field</td>\n      <td>81168</td>\n      <td>4400 0380 4162 1622</td>\n      <td>545.88</td>\n    </tr>\n    <tr>\n      <th>4</th>\n      <td>Bradford Kinney</td>\n      <td>mibound1801@yandex.com</td>\n      <td>853 Mission Rock Freeway</td>\n      <td>41721</td>\n      <td>3712 263405 60178</td>\n      <td>517.49</td>\n    </tr>\n    <tr>\n      <th>...</th>\n      <td>...</td>\n      <td>...</td>\n      <td>...</td>\n      <td>...</td>\n      <td>...</td>\n      <td>...</td>\n    </tr>\n    <tr>\n      <th>95</th>\n      <td>Basil Rios</td>\n      <td>holloo1814@yahoo.com</td>\n      <td>605 Sloat Terrace</td>\n      <td>8108</td>\n      <td>5581 7245 8451 9384</td>\n      <td>937.14</td>\n    </tr>\n    <tr>\n      <th>96</th>\n      <td>Hipolito Rios</td>\n      <td>calefacient2049@gmail.com</td>\n      <td>1248 Fountain Boulevard</td>\n      <td>37077</td>\n      <td>2333 0264 5343 2022</td>\n      <td>645.82</td>\n    </tr>\n    <tr>\n      <th>97</th>\n      <td>Clayton Robertson</td>\n      <td>coner2015@live.com</td>\n      <td>230 Paper Parkway</td>\n      <td>57242</td>\n      <td>2414 3939 6501 2607</td>\n      <td>128.73</td>\n    </tr>\n    <tr>\n      <th>98</th>\n      <td>Tony Chandler</td>\n      <td>sexillion2061@live.com</td>\n      <td>118 Flood Plantation</td>\n      <td>70135</td>\n      <td>5581 8059 1883 1841</td>\n      <td>820.00</td>\n    </tr>\n    <tr>\n      <th>99</th>\n      <td>Cuc Mcgowan</td>\n      <td>dispatched1820@gmail.com</td>\n      <td>87 Louisiana Grove</td>\n      <td>70959</td>\n      <td>2678 4140 5531 3894</td>\n      <td>764.69</td>\n    </tr>\n  </tbody>\n</table>\n<p>100 rows × 6 columns</p>\n</div>"
     },
     "metadata": {},
     "execution_count": 9
    }
   ],
   "source": [
    "sales_data = pd.read_csv(\"../Resources/sales_no_header.csv\", header=None)\n",
    "sales_data"
   ]
  },
  {
   "cell_type": "code",
   "execution_count": 10,
   "metadata": {},
   "outputs": [
    {
     "output_type": "execute_result",
     "data": {
      "text/plain": [
       "              name                   email                   address    zip  \\\n",
       "0    Elwanda White      alyre2036@live.com        352 Lakeshore Mall   9236   \n",
       "1   Lyndon Elliott  arrowy1873@outlook.com          1234 Avery Plaza   1330   \n",
       "2   Daisey Sellers  toucan2024@outlook.com         469 Elwood Street   7631   \n",
       "3     Issac Reeves    asarin1958@gmail.com          565 Phelps Field  81168   \n",
       "4  Bradford Kinney  mibound1801@yandex.com  853 Mission Rock Freeway  41721   \n",
       "\n",
       "                 ccard  amount  \n",
       "0  5327 0855 9720 7055   84.33  \n",
       "1    3717 498777 19636  879.95  \n",
       "2    3758 579477 35734  907.58  \n",
       "3  4400 0380 4162 1622  545.88  \n",
       "4    3712 263405 60178  517.49  "
      ],
      "text/html": "<div>\n<style scoped>\n    .dataframe tbody tr th:only-of-type {\n        vertical-align: middle;\n    }\n\n    .dataframe tbody tr th {\n        vertical-align: top;\n    }\n\n    .dataframe thead th {\n        text-align: right;\n    }\n</style>\n<table border=\"1\" class=\"dataframe\">\n  <thead>\n    <tr style=\"text-align: right;\">\n      <th></th>\n      <th>name</th>\n      <th>email</th>\n      <th>address</th>\n      <th>zip</th>\n      <th>ccard</th>\n      <th>amount</th>\n    </tr>\n  </thead>\n  <tbody>\n    <tr>\n      <th>0</th>\n      <td>Elwanda White</td>\n      <td>alyre2036@live.com</td>\n      <td>352 Lakeshore Mall</td>\n      <td>9236</td>\n      <td>5327 0855 9720 7055</td>\n      <td>84.33</td>\n    </tr>\n    <tr>\n      <th>1</th>\n      <td>Lyndon Elliott</td>\n      <td>arrowy1873@outlook.com</td>\n      <td>1234 Avery Plaza</td>\n      <td>1330</td>\n      <td>3717 498777 19636</td>\n      <td>879.95</td>\n    </tr>\n    <tr>\n      <th>2</th>\n      <td>Daisey Sellers</td>\n      <td>toucan2024@outlook.com</td>\n      <td>469 Elwood Street</td>\n      <td>7631</td>\n      <td>3758 579477 35734</td>\n      <td>907.58</td>\n    </tr>\n    <tr>\n      <th>3</th>\n      <td>Issac Reeves</td>\n      <td>asarin1958@gmail.com</td>\n      <td>565 Phelps Field</td>\n      <td>81168</td>\n      <td>4400 0380 4162 1622</td>\n      <td>545.88</td>\n    </tr>\n    <tr>\n      <th>4</th>\n      <td>Bradford Kinney</td>\n      <td>mibound1801@yandex.com</td>\n      <td>853 Mission Rock Freeway</td>\n      <td>41721</td>\n      <td>3712 263405 60178</td>\n      <td>517.49</td>\n    </tr>\n  </tbody>\n</table>\n</div>"
     },
     "metadata": {},
     "execution_count": 10
    }
   ],
   "source": [
    "column_names = [\"name\",\"email\",\"address\",\"zip\",\"ccard\",\"amount\"]\n",
    "sales_data.columns = column_names\n",
    "sales_data.head()"
   ]
  },
  {
   "cell_type": "code",
   "execution_count": 11,
   "metadata": {},
   "outputs": [
    {
     "output_type": "execute_result",
     "data": {
      "text/plain": [
       "                zip      amount\n",
       "count    100.000000  100.000000\n",
       "mean   40952.160000  533.007200\n",
       "std    30207.118496  275.531072\n",
       "min      555.000000   29.720000\n",
       "25%    11109.750000  328.507500\n",
       "50%    40033.500000  536.110000\n",
       "75%    65834.750000  767.885000\n",
       "max    99877.000000  998.760000"
      ],
      "text/html": "<div>\n<style scoped>\n    .dataframe tbody tr th:only-of-type {\n        vertical-align: middle;\n    }\n\n    .dataframe tbody tr th {\n        vertical-align: top;\n    }\n\n    .dataframe thead th {\n        text-align: right;\n    }\n</style>\n<table border=\"1\" class=\"dataframe\">\n  <thead>\n    <tr style=\"text-align: right;\">\n      <th></th>\n      <th>zip</th>\n      <th>amount</th>\n    </tr>\n  </thead>\n  <tbody>\n    <tr>\n      <th>count</th>\n      <td>100.000000</td>\n      <td>100.000000</td>\n    </tr>\n    <tr>\n      <th>mean</th>\n      <td>40952.160000</td>\n      <td>533.007200</td>\n    </tr>\n    <tr>\n      <th>std</th>\n      <td>30207.118496</td>\n      <td>275.531072</td>\n    </tr>\n    <tr>\n      <th>min</th>\n      <td>555.000000</td>\n      <td>29.720000</td>\n    </tr>\n    <tr>\n      <th>25%</th>\n      <td>11109.750000</td>\n      <td>328.507500</td>\n    </tr>\n    <tr>\n      <th>50%</th>\n      <td>40033.500000</td>\n      <td>536.110000</td>\n    </tr>\n    <tr>\n      <th>75%</th>\n      <td>65834.750000</td>\n      <td>767.885000</td>\n    </tr>\n    <tr>\n      <th>max</th>\n      <td>99877.000000</td>\n      <td>998.760000</td>\n    </tr>\n  </tbody>\n</table>\n</div>"
     },
     "metadata": {},
     "execution_count": 11
    }
   ],
   "source": [
    "sales_data.describe()"
   ]
  },
  {
   "cell_type": "code",
   "execution_count": null,
   "metadata": {},
   "outputs": [],
   "source": []
  }
 ]
}