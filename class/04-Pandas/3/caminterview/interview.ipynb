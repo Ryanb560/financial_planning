{
 "metadata": {
  "language_info": {
   "codemirror_mode": {
    "name": "ipython",
    "version": 3
   },
   "file_extension": ".py",
   "mimetype": "text/x-python",
   "name": "python",
   "nbconvert_exporter": "python",
   "pygments_lexer": "ipython3",
   "version": "3.8.8"
  },
  "orig_nbformat": 2,
  "kernelspec": {
   "name": "python388jvsc74a57bd095f38a81230378dacb31e441f934daf39d2867fc70aafa003e8a0f17897a95be",
   "display_name": "Python 3.8.8 64-bit ('newpanda': conda)"
  }
 },
 "nbformat": 4,
 "nbformat_minor": 2,
 "cells": [
  {
   "cell_type": "code",
   "execution_count": 1,
   "metadata": {},
   "outputs": [],
   "source": [
    "# create a funciton that\n",
    "# calc fizz\n",
    "# calc buzz"
   ]
  },
  {
   "cell_type": "code",
   "execution_count": 2,
   "metadata": {},
   "outputs": [],
   "source": [
    "def calc_fizz():\n",
    "    return \"fizz\"\n",
    "\n",
    "def calc_buzz():\n",
    "    return \"buzz\"\n"
   ]
  },
  {
   "cell_type": "code",
   "execution_count": 5,
   "metadata": {},
   "outputs": [
    {
     "output_type": "execute_result",
     "data": {
      "text/plain": [
       "'buzz'"
      ]
     },
     "metadata": {},
     "execution_count": 5
    }
   ],
   "source": [
    "calc_buzz()"
   ]
  },
  {
   "cell_type": "code",
   "execution_count": 22,
   "metadata": {},
   "outputs": [],
   "source": [
    "# if num divisible by 3 print fizz\n",
    "# if divisible by 5 print buzz\n",
    "\n",
    "def fizzbuzz(integer):\n",
    "    \"\"\"\n",
    "    if integer multiple of 3, return fizz,\n",
    "    if integer mulitple of 5, return buzz,\n",
    "    else returns integer\n",
    "    \"\"\"\n",
    "\n",
    "    if integer % 15 == 0:\n",
    "        return f\"{calc_fizz()}{calc_buzz()}\"\n",
    "    \n",
    "    if integer % 3 == 0:\n",
    "        return calc_fizz()\n",
    "\n",
    "    if integer % 5 == 0:\n",
    "        return calc_buzz()\n",
    "\n",
    "    return integer\n",
    "\n",
    "def main(integer_list):\n",
    "    \"\"\"\n",
    "        Generator function. Can use list to evaluate all values of argument. \n",
    "        cycle through a set of nums and run fizzbuzz\n",
    "\n",
    "        Args:\n",
    "            integer_list: int[]\n",
    "\n",
    "\n",
    "        Returns:\n",
    "            yields values of fizzbuzz for each integer_list item. \n",
    "    \"\"\"\n",
    "    \n",
    "    # for val in integer_list:\n",
    "    #     yield fizzbuzz(val)\n",
    "\n",
    "    return [fizzbuzz(val) for val in integer_list]"
   ]
  },
  {
   "cell_type": "code",
   "execution_count": 23,
   "metadata": {},
   "outputs": [
    {
     "output_type": "execute_result",
     "data": {
      "text/plain": [
       "'fizzbuzz'"
      ]
     },
     "metadata": {},
     "execution_count": 23
    }
   ],
   "source": [
    "fizzbuzz(15)"
   ]
  },
  {
   "cell_type": "code",
   "execution_count": 24,
   "metadata": {},
   "outputs": [
    {
     "output_type": "execute_result",
     "data": {
      "text/plain": [
       "[1, 2, 'fizz', 4, 'buzz']"
      ]
     },
     "metadata": {},
     "execution_count": 24
    }
   ],
   "source": [
    "main([1,2,3,4,5])"
   ]
  },
  {
   "cell_type": "code",
   "execution_count": null,
   "metadata": {},
   "outputs": [],
   "source": []
  }
 ]
}