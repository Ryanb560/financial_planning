{
 "metadata": {
  "language_info": {
   "codemirror_mode": {
    "name": "ipython",
    "version": 3
   },
   "file_extension": ".py",
   "mimetype": "text/x-python",
   "name": "python",
   "nbconvert_exporter": "python",
   "pygments_lexer": "ipython3",
   "version": "3.6.9"
  },
  "orig_nbformat": 2,
  "kernelspec": {
   "name": "python369jvsc74a57bd0a8383eef294e6eb532b9a275f580f77018a4c5ddf6bd4ca154421d62e44b7362",
   "display_name": "Python 3.6.9 64-bit ('base': conda)"
  }
 },
 "nbformat": 4,
 "nbformat_minor": 2,
 "cells": [
  {
   "cell_type": "code",
   "execution_count": 1,
   "metadata": {},
   "outputs": [],
   "source": [
    "import requests"
   ]
  },
  {
   "cell_type": "code",
   "execution_count": 5,
   "metadata": {},
   "outputs": [
    {
     "output_type": "execute_result",
     "data": {
      "text/plain": [
       "{'text': '1982 is the average price for a major league baseball game ticket in 2004 in cents.',\n",
       " 'number': '1982',\n",
       " 'found': False,\n",
       " 'type': 'trivia'}"
      ]
     },
     "metadata": {},
     "execution_count": 5
    }
   ],
   "source": [
    "res = requests.get(\"http://numbersapi.com/2021?json&notfound=floor\").json()\n",
    "res"
   ]
  },
  {
   "cell_type": "code",
   "execution_count": 7,
   "metadata": {},
   "outputs": [
    {
     "output_type": "execute_result",
     "data": {
      "text/plain": [
       "'1982 is the average price for a major league baseball game ticket in 2004 in cents.'"
      ]
     },
     "metadata": {},
     "execution_count": 7
    }
   ],
   "source": [
    "res[\"text\"]"
   ]
  },
  {
   "cell_type": "code",
   "execution_count": 9,
   "metadata": {},
   "outputs": [
    {
     "output_type": "execute_result",
     "data": {
      "text/plain": [
       "{'text': '1982 is the average price for a major league baseball game ticket in 2004 in cents.',\n",
       " 'number': '1982',\n",
       " 'found': False,\n",
       " 'type': 'trivia'}"
      ]
     },
     "metadata": {},
     "execution_count": 9
    }
   ],
   "source": [
    "params = {\n",
    "    \"json\":\"\",\n",
    "    \"notfound\":\"floor\"\n",
    "}\n",
    "\n",
    "res = requests.get(\n",
    "    \"http://numbersapi.com/2021\",\n",
    "    params=params\n",
    "    ).json()\n",
    "res"
   ]
  },
  {
   "cell_type": "code",
   "execution_count": null,
   "metadata": {},
   "outputs": [],
   "source": []
  }
 ]
}