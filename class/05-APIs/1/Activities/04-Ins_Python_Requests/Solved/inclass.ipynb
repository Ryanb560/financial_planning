{
 "metadata": {
  "language_info": {
   "codemirror_mode": {
    "name": "ipython",
    "version": 3
   },
   "file_extension": ".py",
   "mimetype": "text/x-python",
   "name": "python",
   "nbconvert_exporter": "python",
   "pygments_lexer": "ipython3",
   "version": "3.6.9"
  },
  "orig_nbformat": 2,
  "kernelspec": {
   "name": "python369jvsc74a57bd0a8383eef294e6eb532b9a275f580f77018a4c5ddf6bd4ca154421d62e44b7362",
   "display_name": "Python 3.6.9 64-bit ('base': conda)"
  }
 },
 "nbformat": 4,
 "nbformat_minor": 2,
 "cells": [
  {
   "cell_type": "code",
   "execution_count": 1,
   "metadata": {},
   "outputs": [],
   "source": [
    "import requests"
   ]
  },
  {
   "cell_type": "code",
   "execution_count": 2,
   "metadata": {},
   "outputs": [],
   "source": [
    "url = \"https://api.coindesk.com/v1/bpi/currentprice.json\""
   ]
  },
  {
   "cell_type": "code",
   "execution_count": 4,
   "metadata": {},
   "outputs": [
    {
     "output_type": "execute_result",
     "data": {
      "text/plain": [
       "<Response [200]>"
      ]
     },
     "metadata": {},
     "execution_count": 4
    }
   ],
   "source": [
    "res = requests.get(url)\n",
    "res"
   ]
  },
  {
   "cell_type": "code",
   "execution_count": 5,
   "metadata": {},
   "outputs": [
    {
     "output_type": "execute_result",
     "data": {
      "text/plain": [
       "b'{\"time\":{\"updated\":\"Apr 7, 2021 00:36:00 UTC\",\"updatedISO\":\"2021-04-07T00:36:00+00:00\",\"updateduk\":\"Apr 7, 2021 at 01:36 BST\"},\"disclaimer\":\"This data was produced from the CoinDesk Bitcoin Price Index (USD). Non-USD currency data converted using hourly conversion rate from openexchangerates.org\",\"chartName\":\"Bitcoin\",\"bpi\":{\"USD\":{\"code\":\"USD\",\"symbol\":\"&#36;\",\"rate\":\"57,967.3267\",\"description\":\"United States Dollar\",\"rate_float\":57967.3267},\"GBP\":{\"code\":\"GBP\",\"symbol\":\"&pound;\",\"rate\":\"41,908.1165\",\"description\":\"British Pound Sterling\",\"rate_float\":41908.1165},\"EUR\":{\"code\":\"EUR\",\"symbol\":\"&euro;\",\"rate\":\"48,819.0971\",\"description\":\"Euro\",\"rate_float\":48819.0971}}}'"
      ]
     },
     "metadata": {},
     "execution_count": 5
    }
   ],
   "source": [
    "res.content"
   ]
  },
  {
   "cell_type": "code",
   "execution_count": 6,
   "metadata": {},
   "outputs": [
    {
     "output_type": "execute_result",
     "data": {
      "text/plain": [
       "{'time': {'updated': 'Apr 7, 2021 00:36:00 UTC',\n",
       "  'updatedISO': '2021-04-07T00:36:00+00:00',\n",
       "  'updateduk': 'Apr 7, 2021 at 01:36 BST'},\n",
       " 'disclaimer': 'This data was produced from the CoinDesk Bitcoin Price Index (USD). Non-USD currency data converted using hourly conversion rate from openexchangerates.org',\n",
       " 'chartName': 'Bitcoin',\n",
       " 'bpi': {'USD': {'code': 'USD',\n",
       "   'symbol': '&#36;',\n",
       "   'rate': '57,967.3267',\n",
       "   'description': 'United States Dollar',\n",
       "   'rate_float': 57967.3267},\n",
       "  'GBP': {'code': 'GBP',\n",
       "   'symbol': '&pound;',\n",
       "   'rate': '41,908.1165',\n",
       "   'description': 'British Pound Sterling',\n",
       "   'rate_float': 41908.1165},\n",
       "  'EUR': {'code': 'EUR',\n",
       "   'symbol': '&euro;',\n",
       "   'rate': '48,819.0971',\n",
       "   'description': 'Euro',\n",
       "   'rate_float': 48819.0971}}}"
      ]
     },
     "metadata": {},
     "execution_count": 6
    }
   ],
   "source": [
    "data = res.json()\n",
    "data"
   ]
  },
  {
   "cell_type": "code",
   "execution_count": 7,
   "metadata": {},
   "outputs": [
    {
     "output_type": "stream",
     "name": "stdout",
     "text": [
      "{\n    \"time\": {\n        \"updated\": \"Apr 7, 2021 00:36:00 UTC\",\n        \"updatedISO\": \"2021-04-07T00:36:00+00:00\",\n        \"updateduk\": \"Apr 7, 2021 at 01:36 BST\"\n    },\n    \"disclaimer\": \"This data was produced from the CoinDesk Bitcoin Price Index (USD). Non-USD currency data converted using hourly conversion rate from openexchangerates.org\",\n    \"chartName\": \"Bitcoin\",\n    \"bpi\": {\n        \"USD\": {\n            \"code\": \"USD\",\n            \"symbol\": \"&#36;\",\n            \"rate\": \"57,967.3267\",\n            \"description\": \"United States Dollar\",\n            \"rate_float\": 57967.3267\n        },\n        \"GBP\": {\n            \"code\": \"GBP\",\n            \"symbol\": \"&pound;\",\n            \"rate\": \"41,908.1165\",\n            \"description\": \"British Pound Sterling\",\n            \"rate_float\": 41908.1165\n        },\n        \"EUR\": {\n            \"code\": \"EUR\",\n            \"symbol\": \"&euro;\",\n            \"rate\": \"48,819.0971\",\n            \"description\": \"Euro\",\n            \"rate_float\": 48819.0971\n        }\n    }\n}\n"
     ]
    }
   ],
   "source": [
    "import json\n",
    "print(json.dumps(data, indent=4))"
   ]
  },
  {
   "cell_type": "code",
   "execution_count": 8,
   "metadata": {},
   "outputs": [
    {
     "output_type": "stream",
     "name": "stdout",
     "text": [
      "{'bpi': {'EUR': {'code': 'EUR',\n                 'description': 'Euro',\n                 'rate': '48,819.0971',\n                 'rate_float': 48819.0971,\n                 'symbol': '&euro;'},\n         'GBP': {'code': 'GBP',\n                 'description': 'British Pound Sterling',\n                 'rate': '41,908.1165',\n                 'rate_float': 41908.1165,\n                 'symbol': '&pound;'},\n         'USD': {'code': 'USD',\n                 'description': 'United States Dollar',\n                 'rate': '57,967.3267',\n                 'rate_float': 57967.3267,\n                 'symbol': '&#36;'}},\n 'chartName': 'Bitcoin',\n 'disclaimer': 'This data was produced from the CoinDesk Bitcoin Price Index '\n               '(USD). Non-USD currency data converted using hourly conversion '\n               'rate from openexchangerates.org',\n 'time': {'updated': 'Apr 7, 2021 00:36:00 UTC',\n          'updatedISO': '2021-04-07T00:36:00+00:00',\n          'updateduk': 'Apr 7, 2021 at 01:36 BST'}}\n"
     ]
    }
   ],
   "source": [
    "from pprint import pprint\n",
    "pprint(data)"
   ]
  },
  {
   "cell_type": "code",
   "execution_count": 11,
   "metadata": {},
   "outputs": [
    {
     "output_type": "execute_result",
     "data": {
      "text/plain": [
       "57967.3267"
      ]
     },
     "metadata": {},
     "execution_count": 11
    }
   ],
   "source": [
    "data[\"bpi\"][\"USD\"][\"rate_float\"]"
   ]
  },
  {
   "cell_type": "code",
   "execution_count": 12,
   "metadata": {},
   "outputs": [
    {
     "output_type": "execute_result",
     "data": {
      "text/plain": [
       "dict_keys(['time', 'disclaimer', 'chartName', 'bpi'])"
      ]
     },
     "metadata": {},
     "execution_count": 12
    }
   ],
   "source": [
    "data.keys()"
   ]
  },
  {
   "cell_type": "code",
   "execution_count": 26,
   "metadata": {},
   "outputs": [
    {
     "output_type": "execute_result",
     "data": {
      "text/plain": [
       "57638.2491"
      ]
     },
     "metadata": {},
     "execution_count": 26
    }
   ],
   "source": [
    "res = requests.get(url)\n",
    "data = res.json()\n",
    "data[\"bpi\"][\"USD\"][\"rate_float\"]"
   ]
  },
  {
   "cell_type": "code",
   "execution_count": null,
   "metadata": {},
   "outputs": [],
   "source": []
  }
 ]
}