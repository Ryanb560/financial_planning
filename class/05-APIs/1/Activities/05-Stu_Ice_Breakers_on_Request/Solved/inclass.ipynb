{
 "metadata": {
  "language_info": {
   "codemirror_mode": {
    "name": "ipython",
    "version": 3
   },
   "file_extension": ".py",
   "mimetype": "text/x-python",
   "name": "python",
   "nbconvert_exporter": "python",
   "pygments_lexer": "ipython3",
   "version": "3.6.9"
  },
  "orig_nbformat": 2,
  "kernelspec": {
   "name": "python369jvsc74a57bd0a8383eef294e6eb532b9a275f580f77018a4c5ddf6bd4ca154421d62e44b7362",
   "display_name": "Python 3.6.9 64-bit ('base': conda)"
  }
 },
 "nbformat": 4,
 "nbformat_minor": 2,
 "cells": [
  {
   "cell_type": "code",
   "execution_count": 1,
   "metadata": {},
   "outputs": [],
   "source": [
    "import requests"
   ]
  },
  {
   "cell_type": "code",
   "execution_count": 2,
   "metadata": {},
   "outputs": [
    {
     "output_type": "execute_result",
     "data": {
      "text/plain": [
       "<Response [200]>"
      ]
     },
     "metadata": {},
     "execution_count": 2
    }
   ],
   "source": [
    "res = requests.get(\"https://cat-fact.herokuapp.com/facts\")\n",
    "res"
   ]
  },
  {
   "cell_type": "code",
   "execution_count": 3,
   "metadata": {},
   "outputs": [
    {
     "output_type": "execute_result",
     "data": {
      "text/plain": [
       "b'[{\"status\":{\"verified\":true,\"sentCount\":1},\"type\":\"cat\",\"deleted\":false,\"_id\":\"58e008800aac31001185ed07\",\"user\":\"58e007480aac31001185ecef\",\"text\":\"Wikipedia has a recording of a cat meowing, because why not?\",\"__v\":0,\"source\":\"user\",\"updatedAt\":\"2020-08-23T20:20:01.611Z\",\"createdAt\":\"2018-03-06T21:20:03.505Z\",\"used\":false},{\"status\":{\"verified\":true,\"sentCount\":1},\"type\":\"cat\",\"deleted\":false,\"_id\":\"58e008630aac31001185ed01\",\"user\":\"58e007480aac31001185ecef\",\"text\":\"When cats grimace, they are usually \\\\\"taste-scenting.\\\\\" They have an extra organ that, with some breathing control, allows the cats to taste-sense the air.\",\"__v\":0,\"source\":\"user\",\"updatedAt\":\"2020-08-23T20:20:01.611Z\",\"createdAt\":\"2018-02-07T21:20:02.903Z\",\"used\":false},{\"status\":{\"verified\":true,\"sentCount\":1},\"type\":\"cat\",\"deleted\":false,\"_id\":\"58e00a090aac31001185ed16\",\"user\":\"58e007480aac31001185ecef\",\"text\":\"Cats make more than 100 different sounds whereas dogs make around 10.\",\"__v\":0,\"source\":\"user\",\"updatedAt\":\"2020-08-23T20:20:01.611Z\",\"createdAt\":\"2018-02-11T21:20:03.745Z\",\"used\":false},{\"status\":{\"verified\":true,\"sentCount\":1},\"type\":\"cat\",\"deleted\":false,\"_id\":\"58e009390aac31001185ed10\",\"user\":\"58e007480aac31001185ecef\",\"text\":\"Most cats are lactose intolerant, and milk can cause painful stomach cramps and diarrhea. It\\'s best to forego the milk and just give your cat the standard: clean, cool drinking water.\",\"__v\":0,\"source\":\"user\",\"updatedAt\":\"2020-08-23T20:20:01.611Z\",\"createdAt\":\"2018-03-04T21:20:02.979Z\",\"used\":false},{\"status\":{\"verified\":true,\"sentCount\":1},\"type\":\"cat\",\"deleted\":false,\"_id\":\"58e008780aac31001185ed05\",\"user\":\"58e007480aac31001185ecef\",\"text\":\"Owning a cat can reduce the risk of stroke and heart attack by a third.\",\"__v\":0,\"source\":\"user\",\"updatedAt\":\"2020-08-23T20:20:01.611Z\",\"createdAt\":\"2018-03-29T20:20:03.844Z\",\"used\":false}]'"
      ]
     },
     "metadata": {},
     "execution_count": 3
    }
   ],
   "source": [
    "res.content"
   ]
  },
  {
   "cell_type": "code",
   "execution_count": 5,
   "metadata": {},
   "outputs": [
    {
     "output_type": "stream",
     "name": "stdout",
     "text": [
      "[{'__v': 0,\n  '_id': '58e008800aac31001185ed07',\n  'createdAt': '2018-03-06T21:20:03.505Z',\n  'deleted': False,\n  'source': 'user',\n  'status': {'sentCount': 1, 'verified': True},\n  'text': 'Wikipedia has a recording of a cat meowing, because why not?',\n  'type': 'cat',\n  'updatedAt': '2020-08-23T20:20:01.611Z',\n  'used': False,\n  'user': '58e007480aac31001185ecef'},\n {'__v': 0,\n  '_id': '58e008630aac31001185ed01',\n  'createdAt': '2018-02-07T21:20:02.903Z',\n  'deleted': False,\n  'source': 'user',\n  'status': {'sentCount': 1, 'verified': True},\n  'text': 'When cats grimace, they are usually \"taste-scenting.\" They have an '\n          'extra organ that, with some breathing control, allows the cats to '\n          'taste-sense the air.',\n  'type': 'cat',\n  'updatedAt': '2020-08-23T20:20:01.611Z',\n  'used': False,\n  'user': '58e007480aac31001185ecef'},\n {'__v': 0,\n  '_id': '58e00a090aac31001185ed16',\n  'createdAt': '2018-02-11T21:20:03.745Z',\n  'deleted': False,\n  'source': 'user',\n  'status': {'sentCount': 1, 'verified': True},\n  'text': 'Cats make more than 100 different sounds whereas dogs make around '\n          '10.',\n  'type': 'cat',\n  'updatedAt': '2020-08-23T20:20:01.611Z',\n  'used': False,\n  'user': '58e007480aac31001185ecef'},\n {'__v': 0,\n  '_id': '58e009390aac31001185ed10',\n  'createdAt': '2018-03-04T21:20:02.979Z',\n  'deleted': False,\n  'source': 'user',\n  'status': {'sentCount': 1, 'verified': True},\n  'text': 'Most cats are lactose intolerant, and milk can cause painful '\n          \"stomach cramps and diarrhea. It's best to forego the milk and just \"\n          'give your cat the standard: clean, cool drinking water.',\n  'type': 'cat',\n  'updatedAt': '2020-08-23T20:20:01.611Z',\n  'used': False,\n  'user': '58e007480aac31001185ecef'},\n {'__v': 0,\n  '_id': '58e008780aac31001185ed05',\n  'createdAt': '2018-03-29T20:20:03.844Z',\n  'deleted': False,\n  'source': 'user',\n  'status': {'sentCount': 1, 'verified': True},\n  'text': 'Owning a cat can reduce the risk of stroke and heart attack by a '\n          'third.',\n  'type': 'cat',\n  'updatedAt': '2020-08-23T20:20:01.611Z',\n  'used': False,\n  'user': '58e007480aac31001185ecef'}]\n"
     ]
    }
   ],
   "source": [
    "from pprint import pprint\n",
    "pprint(res.json())"
   ]
  },
  {
   "cell_type": "code",
   "execution_count": 6,
   "metadata": {},
   "outputs": [],
   "source": [
    "data = res.json()"
   ]
  },
  {
   "cell_type": "code",
   "execution_count": 7,
   "metadata": {},
   "outputs": [
    {
     "output_type": "execute_result",
     "data": {
      "text/plain": [
       "{'status': {'verified': True, 'sentCount': 1},\n",
       " 'type': 'cat',\n",
       " 'deleted': False,\n",
       " '_id': '58e008800aac31001185ed07',\n",
       " 'user': '58e007480aac31001185ecef',\n",
       " 'text': 'Wikipedia has a recording of a cat meowing, because why not?',\n",
       " '__v': 0,\n",
       " 'source': 'user',\n",
       " 'updatedAt': '2020-08-23T20:20:01.611Z',\n",
       " 'createdAt': '2018-03-06T21:20:03.505Z',\n",
       " 'used': False}"
      ]
     },
     "metadata": {},
     "execution_count": 7
    }
   ],
   "source": [
    "data[0]"
   ]
  },
  {
   "cell_type": "code",
   "execution_count": 8,
   "metadata": {},
   "outputs": [
    {
     "output_type": "execute_result",
     "data": {
      "text/plain": [
       "'Wikipedia has a recording of a cat meowing, because why not?'"
      ]
     },
     "metadata": {},
     "execution_count": 8
    }
   ],
   "source": [
    "data[0][\"text\"]"
   ]
  },
  {
   "cell_type": "code",
   "execution_count": 9,
   "metadata": {},
   "outputs": [
    {
     "output_type": "stream",
     "name": "stdout",
     "text": [
      "Wikipedia has a recording of a cat meowing, because why not?\nWhen cats grimace, they are usually \"taste-scenting.\" They have an extra organ that, with some breathing control, allows the cats to taste-sense the air.\nCats make more than 100 different sounds whereas dogs make around 10.\nMost cats are lactose intolerant, and milk can cause painful stomach cramps and diarrhea. It's best to forego the milk and just give your cat the standard: clean, cool drinking water.\nOwning a cat can reduce the risk of stroke and heart attack by a third.\n"
     ]
    }
   ],
   "source": [
    "for factoid in data:\n",
    "    print(factoid[\"text\"])"
   ]
  },
  {
   "cell_type": "code",
   "execution_count": 11,
   "metadata": {},
   "outputs": [
    {
     "output_type": "stream",
     "name": "stdout",
     "text": [
      "['Wikipedia has a recording of a cat meowing, because why not?', 'When cats grimace, they are usually \"taste-scenting.\" They have an extra organ that, with some breathing control, allows the cats to taste-sense the air.', 'Cats make more than 100 different sounds whereas dogs make around 10.', \"Most cats are lactose intolerant, and milk can cause painful stomach cramps and diarrhea. It's best to forego the milk and just give your cat the standard: clean, cool drinking water.\", 'Owning a cat can reduce the risk of stroke and heart attack by a third.']\n"
     ]
    }
   ],
   "source": [
    "print([fact[\"text\"] for fact in data])"
   ]
  },
  {
   "cell_type": "code",
   "execution_count": 13,
   "metadata": {},
   "outputs": [],
   "source": [
    "major_joke_id = data[2][\"_id\"]"
   ]
  },
  {
   "cell_type": "code",
   "execution_count": 14,
   "metadata": {},
   "outputs": [
    {
     "output_type": "execute_result",
     "data": {
      "text/plain": [
       "'58e00a090aac31001185ed16'"
      ]
     },
     "metadata": {},
     "execution_count": 14
    }
   ],
   "source": [
    "major_joke_id"
   ]
  },
  {
   "cell_type": "code",
   "execution_count": null,
   "metadata": {},
   "outputs": [],
   "source": []
  }
 ]
}